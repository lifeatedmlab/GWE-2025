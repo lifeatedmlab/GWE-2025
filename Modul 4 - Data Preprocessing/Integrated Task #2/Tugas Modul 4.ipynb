{
 "cells": [
  {
   "cell_type": "markdown",
   "metadata": {},
   "source": [
    "<div align=\"center\">\n",
    "\n",
    "# 🌟 **INTEGRATED TASK #2 - MODULE 4 GWE G6** 🌟  \n",
    "\n",
    "</div>\n",
    "\n",
    "<br>\n",
    "\n",
    "<p align=\"center\">\n",
    "  <img src=\"https://neurologicalsurgery.in/wp-content/uploads/2024/01/composition-depression-mental-disorder.jpg\" alt=\"Depression Mental Disorder\" width=700>\n",
    "</p>\n",
    "\n",
    "<br>\n",
    "\n",
    "## 📝 **Dataset Title: Exploring Mental Health Data** 📝\n",
    "\n",
    "Dataset ini berisi informasi mengenai faktor-faktor yang berpotensi mempengaruhi kesejahteraan mental individu, khususnya terkait dengan tekanan akademik, tekanan kerja, dan kondisi psikologis. Data mencakup berbagai atribut yang dapat digunakan untuk menganalisis hubungan antara faktor lingkungan, kebiasaan hidup, dan kesehatan mental.  \n",
    "\n",
    "---\n",
    "\n",
    "## 📊 **Deskripsi Kolom** 📊\n",
    "\n",
    "<div align=\"center\">\n",
    "\n",
    "<style>\n",
    "  table {\n",
    "    width: 80%;\n",
    "    border-collapse: collapse;\n",
    "    border: 2px solid #FF9800;\n",
    "    text-align: center;\n",
    "  }\n",
    "  th {\n",
    "    background-color: #FF9800;\n",
    "    color: white;\n",
    "    padding: 12px;\n",
    "  }\n",
    "  td {\n",
    "    padding: 10px;\n",
    "    border: 1px solid #ddd;\n",
    "    background-color: white;\n",
    "    color: black;\n",
    "  }\n",
    "  tr:nth-child(even) {\n",
    "    background-color: #f9f9f9;\n",
    "  }\n",
    "</style>\n",
    "\n",
    "<table>\n",
    "  <tr>\n",
    "    <th>Kolom</th>\n",
    "    <th>Deskripsi</th>\n",
    "  </tr>\n",
    "  <tr><td><b>id</b></td><td>Identifikasi unik untuk setiap individu dalam dataset.</td></tr>\n",
    "  <tr><td><b>Name</b></td><td>Nama individu (bisa dianonimkan untuk menjaga privasi).</td></tr>\n",
    "  <tr><td><b>Gender</b></td><td>Jenis kelamin individu.</td></tr>\n",
    "  <tr><td><b>Age</b></td><td>Usia individu dalam tahun.</td></tr>\n",
    "  <tr><td><b>City</b></td><td>Kota tempat individu tinggal.</td></tr>\n",
    "  <tr><td><b>Working Professional or Student</b></td><td>Status individu, apakah seorang mahasiswa atau pekerja profesional.</td></tr>\n",
    "  <tr><td><b>Profession</b></td><td>Jenis profesi bagi individu yang bekerja.</td></tr>\n",
    "  <tr><td><b>Academic Pressure</b></td><td>Tingkat tekanan akademik yang dialami oleh mahasiswa.</td></tr>\n",
    "  <tr><td><b>Work Pressure</b></td><td>Tingkat tekanan kerja yang dialami oleh pekerja profesional.</td></tr>\n",
    "  <tr><td><b>CGPA</b></td><td>Indeks Prestasi Kumulatif (**Cumulative Grade Point Average**) sebagai indikator akademik bagi mahasiswa.</td></tr>\n",
    "  <tr><td><b>Study Satisfaction</b></td><td>Tingkat kepuasan individu terhadap studi mereka.</td></tr>\n",
    "  <tr><td><b>Job Satisfaction</b></td><td>Tingkat kepuasan individu terhadap pekerjaannya.</td></tr>\n",
    "  <tr><td><b>Sleep Duration</b></td><td>Rata-rata durasi tidur individu per hari (dalam jam).</td></tr>\n",
    "  <tr><td><b>Dietary Habits</b></td><td>Kebiasaan pola makan individu.</td></tr>\n",
    "  <tr><td><b>Degree</b></td><td>Jenis gelar pendidikan yang sedang atau telah ditempuh oleh individu.</td></tr>\n",
    "  <tr><td><b>Have you ever had suicidal thoughts?</b></td><td>Indikator apakah individu pernah mengalami pikiran untuk bunuh diri.</td></tr>\n",
    "  <tr><td><b>Work/Study Hours</b></td><td>Jumlah jam kerja atau jam belajar individu per hari.</td></tr>\n",
    "  <tr><td><b>Financial Stress</b></td><td>Tingkat stres yang dialami individu akibat masalah keuangan.</td></tr>\n",
    "  <tr><td><b>Family History of Mental Illness</b></td><td>Indikator apakah individu memiliki riwayat keluarga dengan gangguan mental.</td></tr>\n",
    "  <tr><td><b>Depression</b></td><td>Indikator apakah individu mengalami depresi atau tidak.</td></tr>\n",
    "</table>\n",
    "\n",
    "</div>\n",
    "\n",
    "<br>\n",
    "\n",
    "# **Instruksi Pengerjaan Tugas Preprocessing Data**  \n",
    "\n",
    "## **📌 Petunjuk Umum**\n",
    "- Tugas ini bertujuan untuk melakukan **preprocessing data** sebelum dianalisis lebih lanjut.  \n",
    "- Gunakan **Python** dengan pustaka seperti `pandas`, `numpy`, `seaborn`, `matplotlib`, dan `scikit-learn`.  \n",
    "- Setiap **jawaban harus disertai dengan penjelasan** yang jelas, tidak hanya sekadar kode.  \n",
    "- Jika memungkinkan, gunakan **visualisasi** untuk mendukung analisis.  \n",
    "\n",
    "## **🛠 Langkah-langkah Pengerjaan**\n",
    "1. **Persiapan Dataset**  \n",
    "   - Pastikan dataset sudah tersedia dalam format yang sesuai (`CSV`, `Excel`, atau format lainnya).  \n",
    "   - Load dataset menggunakan `pandas`.  \n",
    "   - Lihat beberapa baris pertama untuk memahami strukturnya.  \n",
    "\n",
    "2. **Menjawab Pertanyaan**  \n",
    "   - Kerjakan **semua soal** dari nomor **1 sampai 10** secara sistematis.  \n",
    "   - Gunakan **Markdown** untuk menjelaskan setiap langkah yang dilakukan. \n",
    "\n",
    "3. **Dokumentasi dan Interpretasi**  \n",
    "   - Setiap langkah preprocessing harus **dijelaskan dengan detail**.  \n",
    "   - **Jangan hanya menampilkan kode dan output**, tetapi berikan analisis terhadap hasilnya.  \n",
    "\n",
    "4. **Menyimpan Hasil**  \n",
    "   - Setelah seluruh preprocessing selesai, simpan dataset yang sudah bersih dalam format **CSV**.  \n",
    "\n",
    "5. **Kesimpulan Akhir**  \n",
    "   - Buat ringkasan **apa saja langkah preprocessing yang telah dilakukan**.  \n",
    "   - Jelaskan **dampak preprocessing terhadap kualitas data**.  \n",
    "   - Sebutkan **tantangan yang ditemukan selama proses ini dan bagaimana mengatasinya**.  \n",
    "\n",
    "---\n",
    "<div align=\"center\">\n",
    "\n",
    "<br>\n",
    "\n",
    "> 💡 **Good Luck Guys! Kalau ada yang dibingungin tanya-tanya aja ke mentornya :)** 🚀  \n",
    "\n",
    "</div>"
   ]
  },
  {
   "cell_type": "markdown",
   "metadata": {},
   "source": [
    "> ### 🔍**0. Import Libraries**  "
   ]
  },
  {
   "cell_type": "code",
   "execution_count": 1,
   "metadata": {},
   "outputs": [],
   "source": [
    "import pandas as pd\n",
    "import matplotlib.pyplot as plt\n",
    "import numpy as np\n",
    "import seaborn as sns\n",
    "from sklearn.model_selection import train_test_split"
   ]
  },
  {
   "cell_type": "markdown",
   "metadata": {},
   "source": [
    "> ### 🔍**1. Load Dataset**  \n",
    "\n",
    "Sebelum melakukan preprocessing, langkah pertama adalah **memuat dataset** ke dalam notebook. Pastikan dataset berhasil dimuat dengan benar dan dapat ditampilkan sebelum melanjutkan ke tahap berikutnya.  "
   ]
  },
  {
   "cell_type": "code",
   "execution_count": 2,
   "metadata": {},
   "outputs": [],
   "source": [
    "### Answer Question 1 Here\n"
   ]
  },
  {
   "cell_type": "markdown",
   "metadata": {},
   "source": [
    "> ### 🔍**2. Menghapus Kolom yang Tidak Relevan**  \n",
    "- Tidak semua kolom dalam dataset mungkin relevan untuk analisis.  \n",
    "- Identifikasi dan hapus kolom yang tidak memiliki kontribusi signifikan.  "
   ]
  },
  {
   "cell_type": "code",
   "execution_count": 3,
   "metadata": {},
   "outputs": [],
   "source": [
    "### Answer Question 2 Here"
   ]
  },
  {
   "cell_type": "markdown",
   "metadata": {},
   "source": [
    "> Berikan alasan kenapa menghapus kolom tersebut disini : "
   ]
  },
  {
   "cell_type": "markdown",
   "metadata": {},
   "source": [
    "> ### 🔍**3. Menangani Missing Values (Data Hilang)**    \n",
    "- Tangani nilai yang hilang di kolom `Profession`, `Dietary Habits`, `Degree`, `Financial Stress`.  \n",
    "- Bagaimana cara terbaik menangani data yang hilang ini? (Hapus, isi dengan rata-rata/median/modus, atau metode lain?)  \n",
    "- Tangani nilai yang hilang di kolom `Academic Pressure`, `Work Pressure`, `Job Satisfaction`, `Study Satisfaction`\n",
    "\n",
    "- Hintt : \n",
    "- **Gabungkan `Academic Pressure` dan `Work Pressure`** menjadi satu kolom **`Pressure`**, dengan aturan:  \n",
    "    - Jika individu adalah **Student**, gunakan nilai dari `Academic Pressure`.  \n",
    "    - Jika individu adalah **Working Professional**, gunakan nilai dari `Work Pressure`.  \n",
    "  - **Gabungkan `Study Satisfaction` dan `Job Satisfaction`** menjadi satu kolom **`Satisfaction`**, dengan aturan:  \n",
    "    - Jika individu adalah **Student**, gunakan nilai dari `Study Satisfaction`.  \n",
    "    - Jika individu adalah **Working Professional**, gunakan nilai dari `Job Satisfaction`. \n",
    "\n",
    "- atau boleh juga nilai null di kolom `Academic Pressure`, `Work Pressure`, `Job Satisfaction`, `Study Satisfaction` nya diisi dengan 0 "
   ]
  },
  {
   "cell_type": "code",
   "execution_count": 4,
   "metadata": {},
   "outputs": [],
   "source": [
    "### Answer Question 3 Here"
   ]
  },
  {
   "cell_type": "markdown",
   "metadata": {},
   "source": [
    ">Berikan penjelasan pemilihan metode yang digunakan untuk mengisi nilai yang kosong disini : "
   ]
  },
  {
   "cell_type": "markdown",
   "metadata": {},
   "source": [
    "> ### 🔍**4. Feature Engineering**  \n",
    "-  Kolom `Sleep Duration` memiliki terlalu banyak unique value, kelompokkan kolom tersebut menjadi 3 kategori saja, **'Less than 7'**, **'7-8'**, **'More than 8'**\n",
    "  \n",
    "    "
   ]
  },
  {
   "cell_type": "code",
   "execution_count": 5,
   "metadata": {},
   "outputs": [],
   "source": [
    "### Answer Question 4 Here"
   ]
  },
  {
   "cell_type": "markdown",
   "metadata": {},
   "source": [
    "> ### 🔍**5. Encoding Data Kategorikal**  \n",
    "- Lakukan Encoding pada semua data categorical / yang memiliki tipe data object :  `'Name', 'Gender', 'City', 'Working Professional or Student',\n",
    "       'Profession', 'Sleep Duration', 'Dietary Habits', 'Degree',\n",
    "       'Have you ever had suicidal thoughts ?',\n",
    "       'Family History of Mental Illness'`  \n",
    "- Lakukan **encoding** menggunakan metode yang sesuai:  \n",
    "  - **One-hot encoding** atau **Label encoding**?  "
   ]
  },
  {
   "cell_type": "code",
   "execution_count": 6,
   "metadata": {},
   "outputs": [],
   "source": [
    "# Answer Question 5 Here"
   ]
  },
  {
   "cell_type": "markdown",
   "metadata": {},
   "source": [
    "> Beri penjelasan pemilihan metode encoding yang digunakan disini : "
   ]
  },
  {
   "cell_type": "markdown",
   "metadata": {},
   "source": [
    "> ### 🔍**6. Train Test Split**  \n",
    "- Gunakan **train-test split** dari `scikit-learn` untuk membagi dataset dengan proporsi berikut:  \n",
    "  - **80% untuk training**  \n",
    "  - **20% untuk testing**  "
   ]
  },
  {
   "cell_type": "code",
   "execution_count": 7,
   "metadata": {},
   "outputs": [],
   "source": [
    "# Answer Question 6 Here"
   ]
  },
  {
   "cell_type": "markdown",
   "metadata": {},
   "source": [
    "> ### 🔍**7. Feature Scaling (Normalisasi atau Standardisasi)**  \n",
    "- Beberapa kolom numerik memiliki skala yang berbeda (misalnya `CGPA` dan `Work/Study Hours`).  \n",
    "- Lakukan **feature scaling** menggunakan metode yang sesuai:  \n",
    "  - **Min-Max Scaling** atau **Standardization (Z-score Scaling)**  \n",
    "\n",
    "notes : kolom `Depression` jangan di scale yaa ( karena dia dependent feature )"
   ]
  },
  {
   "cell_type": "code",
   "execution_count": 8,
   "metadata": {},
   "outputs": [],
   "source": [
    "# Answer Question 7 Here"
   ]
  },
  {
   "cell_type": "markdown",
   "metadata": {},
   "source": [
    "> ### 🔍**8. Handling Target Variable Imbalance (`Depression`)**  \n",
    "- lakukan teknik **handling imbalance data**, seperti:  \n",
    "  - **Oversampling**: Menambah jumlah sampel pada kelas minoritas (misalnya dengan **SMOTE** atau Random Oversampling).  \n",
    "  - **Undersampling**: Mengurangi jumlah sampel pada kelas mayoritas untuk menyeimbangkan proporsi data.  "
   ]
  },
  {
   "cell_type": "code",
   "execution_count": 9,
   "metadata": {},
   "outputs": [],
   "source": [
    "#Answer Question 8 Here"
   ]
  },
  {
   "cell_type": "markdown",
   "metadata": {},
   "source": [
    "> ### 🔍**9. Eksplorasi Lebih Lanjut: Identifikasi Kebutuhan Preprocessing Tambahan**   \n",
    "  1. Identifikasi minimal **dua aspek preprocessing tambahan** yang diperlukan.  \n",
    "  2. Gunakan **analisis statistik dan visualisasi** untuk mendukung temuanmu.  \n",
    "  3. Lakukan preprocessing yang sesuai dan dokumentasikan setiap langkahnya.  \n",
    "  4. Jelaskan **mengapa preprocessing ini diperlukan** dan bagaimana dampaknya terhadap analisis atau model.  \n"
   ]
  },
  {
   "cell_type": "code",
   "execution_count": 10,
   "metadata": {},
   "outputs": [],
   "source": [
    "# Answer Question 9 Here"
   ]
  },
  {
   "cell_type": "markdown",
   "metadata": {},
   "source": [
    "> ### 🔍**10. Menyimpan Hasil**  \n",
    "   - Setelah seluruh preprocessing selesai, simpan dataset yang sudah bersih dalam format **CSV**.  \n"
   ]
  },
  {
   "cell_type": "code",
   "execution_count": 11,
   "metadata": {},
   "outputs": [],
   "source": [
    "# Answer Question 10 Here"
   ]
  },
  {
   "cell_type": "markdown",
   "metadata": {},
   "source": [
    "> ### 🔍**11. Berikan Kesimpulan**  \n",
    "- Buat ringkasan **apa saja langkah preprocessing yang telah dilakukan**.  \n",
    "- Jelaskan **dampak preprocessing terhadap kualitas data**.  \n",
    "- Sebutkan **tantangan yang ditemukan selama proses ini dan bagaimana mengatasinya**.  "
   ]
  },
  {
   "cell_type": "markdown",
   "metadata": {},
   "source": [
    "Answer Question 11 Here"
   ]
  }
 ],
 "metadata": {
  "kernelspec": {
   "display_name": "Python 3",
   "language": "python",
   "name": "python3"
  },
  "language_info": {
   "codemirror_mode": {
    "name": "ipython",
    "version": 3
   },
   "file_extension": ".py",
   "mimetype": "text/x-python",
   "name": "python",
   "nbconvert_exporter": "python",
   "pygments_lexer": "ipython3",
   "version": "3.10.7"
  }
 },
 "nbformat": 4,
 "nbformat_minor": 2
}

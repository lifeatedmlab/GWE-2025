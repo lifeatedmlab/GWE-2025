{
 "cells": [
  {
   "cell_type": "markdown",
   "metadata": {},
   "source": [
    "<div align=\"center\">\n",
    "\n",
    "# 🌟 **INTEGRATED TASK #1 - MODULE 3 GWE G6** 🌟  \n",
    "## 📝 **Dataset Title: Exploring Mental Health Data** 📝\n",
    "\n",
    "</div>\n",
    "\n",
    "<br>\n",
    "\n",
    "<p align=\"center\">\n",
    "  <img src=\"https://neurologicalsurgery.in/wp-content/uploads/2024/01/composition-depression-mental-disorder.jpg\" alt=\"Depression Mental Disorder\" width=700>\n",
    "</p>\n",
    "\n",
    "<br>\n",
    "\n",
    "Dataset ini berisi informasi mengenai faktor-faktor yang berpotensi mempengaruhi kesejahteraan mental individu, khususnya terkait dengan tekanan akademik, tekanan kerja, dan kondisi psikologis. Data mencakup berbagai atribut yang dapat digunakan untuk menganalisis hubungan antara faktor lingkungan, kebiasaan hidup, dan kesehatan mental.  \n",
    "\n",
    "---\n",
    "\n",
    "## 📊 **Deskripsi Kolom** 📊\n",
    "\n",
    "<div align=\"center\">\n",
    "\n",
    "<style>\n",
    "  table {\n",
    "    width: 80%;\n",
    "    border-collapse: collapse;\n",
    "    border: 2px solid #FF9800;\n",
    "    text-align: center;\n",
    "  }\n",
    "  th {\n",
    "    background-color: #FF9800;\n",
    "    color: white;\n",
    "    padding: 12px;\n",
    "  }\n",
    "  td {\n",
    "    padding: 10px;\n",
    "    border: 1px solid #ddd;\n",
    "    background-color: white;\n",
    "    color: black;\n",
    "  }\n",
    "  tr:nth-child(even) {\n",
    "    background-color: #f9f9f9;\n",
    "  }\n",
    "</style>\n",
    "\n",
    "<table>\n",
    "  <tr>\n",
    "    <th>Kolom</th>\n",
    "    <th>Deskripsi</th>\n",
    "  </tr>\n",
    "  <tr><td><b>id</b></td><td>Identifikasi unik untuk setiap individu dalam dataset.</td></tr>\n",
    "  <tr><td><b>Name</b></td><td>Nama individu (bisa dianonimkan untuk menjaga privasi).</td></tr>\n",
    "  <tr><td><b>Gender</b></td><td>Jenis kelamin individu.</td></tr>\n",
    "  <tr><td><b>Age</b></td><td>Usia individu dalam tahun.</td></tr>\n",
    "  <tr><td><b>City</b></td><td>Kota tempat individu tinggal.</td></tr>\n",
    "  <tr><td><b>Working Professional or Student</b></td><td>Status individu, apakah seorang mahasiswa atau pekerja profesional.</td></tr>\n",
    "  <tr><td><b>Profession</b></td><td>Jenis profesi bagi individu yang bekerja.</td></tr>\n",
    "  <tr><td><b>Academic Pressure</b></td><td>Tingkat tekanan akademik yang dialami oleh mahasiswa.</td></tr>\n",
    "  <tr><td><b>Work Pressure</b></td><td>Tingkat tekanan kerja yang dialami oleh pekerja profesional.</td></tr>\n",
    "  <tr><td><b>CGPA</b></td><td>Indeks Prestasi Kumulatif (**Cumulative Grade Point Average**) sebagai indikator akademik bagi mahasiswa.</td></tr>\n",
    "  <tr><td><b>Study Satisfaction</b></td><td>Tingkat kepuasan individu terhadap studi mereka.</td></tr>\n",
    "  <tr><td><b>Job Satisfaction</b></td><td>Tingkat kepuasan individu terhadap pekerjaannya.</td></tr>\n",
    "  <tr><td><b>Sleep Duration</b></td><td>Rata-rata durasi tidur individu per hari (dalam jam).</td></tr>\n",
    "  <tr><td><b>Dietary Habits</b></td><td>Kebiasaan pola makan individu.</td></tr>\n",
    "  <tr><td><b>Degree</b></td><td>Jenis gelar pendidikan yang sedang atau telah ditempuh oleh individu.</td></tr>\n",
    "  <tr><td><b>Have you ever had suicidal thoughts?</b></td><td>Indikator apakah individu pernah mengalami pikiran untuk bunuh diri.</td></tr>\n",
    "  <tr><td><b>Work/Study Hours</b></td><td>Jumlah jam kerja atau jam belajar individu per hari.</td></tr>\n",
    "  <tr><td><b>Financial Stress</b></td><td>Tingkat stres yang dialami individu akibat masalah keuangan.</td></tr>\n",
    "  <tr><td><b>Family History of Mental Illness</b></td><td>Indikator apakah individu memiliki riwayat keluarga dengan gangguan mental.</td></tr>\n",
    "  <tr><td><b>Depression</b></td><td>Indikator apakah individu mengalami depresi atau tidak.</td></tr>\n",
    "</table>\n",
    "\n",
    "</div>\n",
    "\n",
    "<br>\n",
    "\n",
    "## ⚙️ **Instruksi Pengerjaan** ⚙️ \n",
    "\n",
    "Lakukan **Exploratory Data Analysis (EDA)** pada dataset yang diberikan dengan mengikuti langkah-langkah berikut:  \n",
    "\n",
    "1. **Pahami dataset** dengan melihat struktur data, jumlah entri, dan tipe data tiap kolom.  \n",
    "2. **Identifikasi data yang hilang atau duplikat** yang mungkin perlu ditangani sebelum analisis lebih lanjut.  \n",
    "3. **Analisis deskriptif statistik** seperti mean, median, standar deviasi, distribusi usia, jam tidur, dan tingkat kepuasan.  \n",
    "4. **Visualisasi hubungan antar variabel** menggunakan **seaborn** dan **matplotlib**, misalnya:  \n",
    "   - Korelasi antara **tekanan akademik/kerja** dengan **depresi**.  \n",
    "   - Pengaruh **jam tidur** terhadap **kepuasan studi/kerja**.  \n",
    "   - Perbedaan **tekanan keuangan** pada mahasiswa dan pekerja profesional.  \n",
    "5. **Jelaskan hasil analisis** dalam bentuk insight yang mudah dipahami.  \n",
    "\n",
    "<br>\n",
    "\n",
    "### ⚠️ **Catatan Penting** ⚠️ \n",
    "✅ **Jangan hanya menampilkan kode dan grafik!** Setiap jawaban harus disertai dengan **interpretasi atau jelaskan insight dari visualisasi yang dibuat yang jelas!**.  \n",
    "✅ **Jelaskan hasil analisis** dalam beberapa kalimat setelah setiap visualisasi atau perhitungan statistik.  \n",
    "✅ Gunakan **Python (pandas, seaborn, matplotlib)** atau tools lain yang sesuai untuk menjawab setiap pertanyaan.  \n",
    "\n",
    "<div align=\"center\">\n",
    "\n",
    "<br>\n",
    "\n",
    "> 💡 **Good Luck Guys! Kalau ada yang dibingungin tanya-tanya aja ke mentornya :)** 🚀  \n",
    "\n",
    "</div>"
   ]
  },
  {
   "cell_type": "markdown",
   "metadata": {},
   "source": [
    "---"
   ]
  },
  {
   "cell_type": "markdown",
   "metadata": {},
   "source": [
    "> ## **0. Import Libraries**  \n",
    "\n",
    "Sebelum memulai analisis data, kita perlu mengimpor beberapa library yang akan digunakan dalam Exploratory Data Analysis (EDA).  \n",
    "\n",
    "### 📌 **Penjelasan Library yang Digunakan:**  \n",
    "- **pandas** → Digunakan untuk membaca, mengelola, dan menganalisis data dalam bentuk tabel (DataFrame).  \n",
    "- **matplotlib.pyplot** → Digunakan untuk membuat berbagai jenis visualisasi seperti grafik batang, garis, dan histogram.  \n",
    "- **seaborn** → Library visualisasi berbasis Matplotlib yang lebih estetik ceunah dan mudah digunakan untuk analisis statistik.  "
   ]
  },
  {
   "cell_type": "code",
   "execution_count": null,
   "metadata": {},
   "outputs": [],
   "source": [
    "import pandas as pd\n",
    "import matplotlib.pyplot as plt\n",
    "import seaborn as sns\n",
    "import warnings\n",
    "\n",
    "warnings.filterwarnings(\"ignore\")\n",
    "\n",
    "plt.style.use('ggplot')\n",
    "pd.set_option('display.max_colwidth', None)"
   ]
  },
  {
   "cell_type": "markdown",
   "metadata": {},
   "source": [
    "> ## **1. 📂 Load Dataset**  \n",
    "\n",
    "Sebelum melakukan analisis, langkah pertama adalah **memuat dataset** ke dalam notebook. Pastikan dataset berhasil dimuat dengan benar dan dapat ditampilkan sebelum melanjutkan ke tahap berikutnya.  \n",
    "\n",
    "### 🛠 **Apa yang Harus Dilakukan?**  \n",
    "✅ **Baca dataset** menggunakan `pandas` untuk memeriksa struktur data.  \n",
    "✅ **Tampilkan beberapa baris pertama** untuk memastikan data termuat dengan baik."
   ]
  },
  {
   "cell_type": "code",
   "execution_count": 30,
   "metadata": {},
   "outputs": [],
   "source": [
    "### Answer Question 1 Here"
   ]
  },
  {
   "cell_type": "markdown",
   "metadata": {},
   "source": [
    "> ## **2. 🧐 Periksa Informasi Dataset**  \n",
    "\n",
    "Sebelum melakukan analisis lebih lanjut, kita perlu memahami struktur dataset dengan melihat tipe data dari setiap kolom.  \n",
    "\n",
    "### 🛠 **Apa yang Harus Dilakukan?**  \n",
    "✅ **Cek tipe data** dari setiap kolom untuk memastikan data sudah sesuai dengan yang diharapkan.  "
   ]
  },
  {
   "cell_type": "code",
   "execution_count": null,
   "metadata": {},
   "outputs": [],
   "source": [
    "### Answer Question 2 Here"
   ]
  },
  {
   "cell_type": "markdown",
   "metadata": {},
   "source": [
    "> ## **3. 📊 Deskripsi Data**  \n",
    "\n",
    "Sebelum melakukan analisis lebih dalam, kita perlu memahami karakteristik dataset melalui deskripsi statistik.  \n",
    "\n",
    "### 🛠 **Apa yang Harus Dilakukan?**  \n",
    "✅ **Tampilkan ringkasan statistik untuk kolom numerik**  \n",
    "✅ **Lihat juga ringkasan statistik untuk kolom kategorikal** "
   ]
  },
  {
   "cell_type": "code",
   "execution_count": null,
   "metadata": {},
   "outputs": [],
   "source": [
    "### Answer Question 3 Here (Deskripsi statistik untuk kolom numerik)"
   ]
  },
  {
   "cell_type": "code",
   "execution_count": null,
   "metadata": {},
   "outputs": [],
   "source": [
    "### Answer Question 3 Here (Ringkasan data untuk kolom kategorikal)"
   ]
  },
  {
   "cell_type": "markdown",
   "metadata": {},
   "source": [
    "> ## **4. 🔍 Cek Data Null & Duplikat**  \n",
    "\n",
    "Sebelum melanjutkan analisis, kita perlu memastikan bahwa dataset bersih dari data yang hilang (**missing values**) dan duplikat.  \n",
    "\n",
    "### 🛠 **Apa yang Harus Dilakukan?**  \n",
    "✅ **Periksa nilai kosong (null/missing values)** di setiap kolom.  \n",
    "✅ **Identifikasi data duplikat** dalam dataset."
   ]
  },
  {
   "cell_type": "code",
   "execution_count": null,
   "metadata": {},
   "outputs": [],
   "source": [
    "### Answer Question 4 Here (Cek Nilai Null)"
   ]
  },
  {
   "cell_type": "code",
   "execution_count": null,
   "metadata": {},
   "outputs": [],
   "source": [
    "### Answer Question 4 Here (Cek Nilai Duplikat)"
   ]
  },
  {
   "cell_type": "markdown",
   "metadata": {},
   "source": [
    "> ## **5. 🔍 Periksa Nilai Unik pada Kolom Kategorikal**  \n",
    "\n",
    "Sebelum melakukan analisis lebih lanjut, kita perlu memahami variasi data pada kolom **kategorikal**.  \n",
    "\n",
    "### 🛠 **Apa yang Harus Dilakukan?**  \n",
    "✅ **Identifikasi kolom yang bersifat kategorikal.**  \n",
    "✅ **Tampilkan daftar nilai unik** untuk setiap kolom kategorikal agar kita mengetahui variasinya. "
   ]
  },
  {
   "cell_type": "code",
   "execution_count": null,
   "metadata": {},
   "outputs": [],
   "source": [
    "### Answer Question 5 Here"
   ]
  },
  {
   "cell_type": "markdown",
   "metadata": {},
   "source": [
    "<br>\n",
    "\n",
    "---\n",
    "\n",
    "# 📊 **Exploratory Data Analysis (EDA)!** 🎨  \n",
    "\n",
    "Setelah memahami struktur dan kualitas dataset, saatnya melakukan **Exploratory Data Analysis (EDA)** untuk mendapatkan wawasan lebih dalam melalui visualisasi data.  \n",
    "\n",
    "### 🔍 **Apa Tujuan EDA?**  \n",
    "✅ Memahami distribusi data numerik dan kategorikal.  \n",
    "✅ Mengidentifikasi pola atau tren dalam dataset.  \n",
    "✅ Mendeteksi outlier atau anomali yang dapat memengaruhi analisis.  \n",
    "✅ Mengetahui hubungan antar variabel yang mungkin signifikan.  \n",
    "\n",
    "Mari kita mulai dengan berbagai visualisasi untuk menjelajahi dataset ini! 🚀  \n",
    "\n",
    "---\n",
    "\n",
    "<br>"
   ]
  },
  {
   "cell_type": "markdown",
   "metadata": {},
   "source": [
    ">## **6. 🔥 Correlation Matrix (Heatmap)**  \n",
    "\n",
    "Kita akan melihat korelasi antar variabel numerik dalam dataset menggunakan **Correlation Matrix**. Korelasi membantu kita memahami hubungan antara fitur-fitur yang ada.  \n",
    "\n",
    "### 🛠 **Apa yang Akan Dilakukan?**  \n",
    "✅ Menggunakan **matriks korelasi** untuk melihat hubungan antar variabel.  \n",
    "✅ Menggunakan **heatmap dari Seaborn** untuk memvisualisasikan korelasi.  \n",
    "✅ Menganalisis apakah ada variabel yang memiliki korelasi tinggi dengan **Depression**.  "
   ]
  },
  {
   "cell_type": "code",
   "execution_count": null,
   "metadata": {},
   "outputs": [],
   "source": [
    "### Answer Question 6 Here"
   ]
  },
  {
   "cell_type": "markdown",
   "metadata": {},
   "source": [
    "### Jawab insight yang kamu dapatkan dari visualisasi tadi!"
   ]
  },
  {
   "cell_type": "markdown",
   "metadata": {},
   "source": [
    ">## **7. 📊 Boxplot untuk Menganalisis Distribusi Data & Outlier**  \n",
    "\n",
    "Boxplot membantu kita memahami **distribusi dan pencilan (outliers)** pada data numerik. Visualisasi ini sangat berguna untuk melihat persebaran data dan apakah ada nilai ekstrem dalam dataset.  \n",
    "\n",
    "### 🛠 **Apa yang Akan Dilakukan?**  \n",
    "✅ Menganalisis **persebaran data** dan **potensi outliers**.  \n",
    "✅ Melihat bagaimana distribusi **Sleep Duration, Work/Study Hours, CGPA,** dll. "
   ]
  },
  {
   "cell_type": "code",
   "execution_count": null,
   "metadata": {},
   "outputs": [],
   "source": [
    "### Answer Question 7 Here"
   ]
  },
  {
   "cell_type": "markdown",
   "metadata": {},
   "source": [
    "### Jawab insight yang kamu dapatkan dari visualisasi tadi!"
   ]
  },
  {
   "cell_type": "markdown",
   "metadata": {},
   "source": [
    ">## **8. 📊 Analisis Distribusi Kolom `Depression`**  \n",
    "\n",
    "Salah satu analisis penting adalah melihat bagaimana distribusi data pada kolom **Depression** (apakah seseorang mengalami depresi atau tidak).  \n",
    "\n",
    "#### 🛠 **Apa yang Harus Dilakukan?**  \n",
    "✅ Buat **bar chart** atau **countplot** untuk melihat distribusi jumlah individu dengan dan tanpa depresi.  \n",
    "✅ Identifikasi apakah dataset ini **seimbang (balanced)** atau **tidak seimbang (imbalanced)**."
   ]
  },
  {
   "cell_type": "code",
   "execution_count": null,
   "metadata": {},
   "outputs": [],
   "source": [
    "### Answer Question 8 Here\n"
   ]
  },
  {
   "cell_type": "markdown",
   "metadata": {},
   "source": [
    "### Jawab insight yang kamu dapatkan dari visualisasi tadi!"
   ]
  },
  {
   "cell_type": "markdown",
   "metadata": {},
   "source": [
    ">## **9. 📊 Distribusi Umur (`Age`)**  \n",
    "\n",
    "Mengetahui rentang usia peserta sangat penting dalam memahami pola dalam dataset.  \n",
    "\n",
    "#### 🛠 **Apa yang Harus Dilakukan?**  \n",
    "✅ Gunakan **Histogram** untuk melihat distribusi usia.  \n",
    "✅ Identifikasi apakah ada kelompok usia tertentu yang dominan."
   ]
  },
  {
   "cell_type": "code",
   "execution_count": null,
   "metadata": {},
   "outputs": [],
   "source": [
    "### Answer Question 9 Here"
   ]
  },
  {
   "cell_type": "markdown",
   "metadata": {},
   "source": [
    "### Jawab insight yang kamu dapatkan dari visualisasi tadi!"
   ]
  },
  {
   "cell_type": "markdown",
   "metadata": {},
   "source": [
    ">## **10. 📊 Distribusi Gender**  \n",
    "\n",
    "Melihat distribusi **gender** dapat membantu memahami komposisi peserta dalam dataset.  \n",
    "\n",
    "#### 🛠 **Apa yang Harus Dilakukan?**  \n",
    "✅ Gunakan **bar chart** atau **countplot** untuk melihat jumlah individu berdasarkan gender.  \n",
    "✅ Cek apakah ada ketidakseimbangan dalam jumlah peserta laki-laki dan perempuan."
   ]
  },
  {
   "cell_type": "code",
   "execution_count": null,
   "metadata": {},
   "outputs": [],
   "source": [
    "### Answer Question 10 Here"
   ]
  },
  {
   "cell_type": "markdown",
   "metadata": {},
   "source": [
    "### Jawab insight yang kamu dapatkan dari visualisasi tadi!"
   ]
  },
  {
   "cell_type": "markdown",
   "metadata": {},
   "source": [
    "> ## **11. 🔎 Hubungan antara `Age` dan `Depression`**  \n",
    "\n",
    "Apakah usia memiliki pengaruh terhadap kecenderungan mengalami depresi?  \n",
    "\n",
    "#### 🛠 **Apa yang Harus Dilakukan?**  \n",
    "✅ Gunakan **boxplot** atau **violin plot** untuk melihat sebaran usia berdasarkan kondisi depresi.  \n",
    "✅ Perhatikan apakah ada pola tertentu antara usia dan tingkat depresi."
   ]
  },
  {
   "cell_type": "code",
   "execution_count": null,
   "metadata": {},
   "outputs": [],
   "source": [
    "### Answer Question 11 Here"
   ]
  },
  {
   "cell_type": "markdown",
   "metadata": {},
   "source": [
    "### Jawab insight yang kamu dapatkan dari visualisasi tadi!"
   ]
  },
  {
   "cell_type": "markdown",
   "metadata": {},
   "source": [
    ">## **12. 🔎 Hubungan antara `Gender` dan `Depression`**  \n",
    "\n",
    "Mengetahui distribusi depresi berdasarkan **gender** dapat memberikan wawasan yang lebih dalam.  \n",
    "\n",
    "#### 🛠 **Apa yang Harus Dilakukan?**  \n",
    "✅ Buat **bar chart** untuk membandingkan jumlah individu dengan dan tanpa depresi berdasarkan gender.  \n",
    "✅ Analisis apakah ada perbedaan signifikan dalam tingkat depresi antar gender. "
   ]
  },
  {
   "cell_type": "code",
   "execution_count": null,
   "metadata": {},
   "outputs": [],
   "source": [
    "### Answer Question 12 Here"
   ]
  },
  {
   "cell_type": "markdown",
   "metadata": {},
   "source": [
    "### Jawab insight yang kamu dapatkan dari visualisasi tadi!"
   ]
  },
  {
   "cell_type": "markdown",
   "metadata": {},
   "source": [
    "> ## **13. 🔎 `Work/Study Hours` vs `Depression`**  \n",
    "\n",
    "Apakah jumlah jam kerja atau jam belajar berkorelasi dengan tingkat depresi?  \n",
    "\n",
    "#### 🛠 **Apa yang Harus Dilakukan?**  \n",
    "✅ Gunakan **boxplot** untuk melihat distribusi jam kerja/belajar berdasarkan kondisi depresi.  \n",
    "✅ Cek apakah individu dengan jam kerja/belajar tinggi lebih rentan terhadap depresi."
   ]
  },
  {
   "cell_type": "code",
   "execution_count": null,
   "metadata": {},
   "outputs": [],
   "source": [
    "### Answer Question 13 Here"
   ]
  },
  {
   "cell_type": "markdown",
   "metadata": {},
   "source": [
    "### Jawab insight yang kamu dapatkan dari visualisasi tadi!"
   ]
  },
  {
   "cell_type": "markdown",
   "metadata": {},
   "source": [
    ">## **14. 🔎 `Financial Stress` vs `Depression`**  \n",
    "\n",
    "Apakah tekanan finansial berperan dalam tingkat depresi individu?  \n",
    "\n",
    "#### 🛠 **Apa yang Harus Dilakukan?**  \n",
    "✅ Gunakan **count plot** atau **bar chart** untuk melihat hubungan antara **Financial Stress** dan **Depression**.  \n",
    "✅ Identifikasi apakah individu dengan tingkat stres finansial tinggi lebih cenderung mengalami depresi.  "
   ]
  },
  {
   "cell_type": "code",
   "execution_count": null,
   "metadata": {},
   "outputs": [],
   "source": [
    "### Answer Question 14 Here"
   ]
  },
  {
   "cell_type": "markdown",
   "metadata": {},
   "source": [
    "### Jawab insight yang kamu dapatkan dari visualisasi tadi!"
   ]
  },
  {
   "cell_type": "markdown",
   "metadata": {},
   "source": [
    "> ## **15. 🔎 Analisis Nilai yang Hilang (Missing Values)**  \n",
    "\n",
    "Sebelum melanjutkan analisis lebih dalam, penting untuk memahami **data yang hilang** dan penyebabnya.  \n",
    "\n",
    "### 🛠 **Apa yang Harus Dilakukan?**  \n",
    "✅ Periksa **jumlah nilai yang hilang** pada kolom berikut:  \n",
    "   - **Academic Pressure**  \n",
    "   - **Work Pressure**  \n",
    "   - **Study Satisfaction**  \n",
    "   - **Job Satisfaction**  \n",
    "   - **CGPA**  \n",
    "✅ Analisis **mengapa** kolom-kolom ini memiliki banyak nilai kosong.  \n",
    "✅ Diskusikan **kemungkinan penyebabnya** (misalnya, tidak semua peserta memiliki pekerjaan atau sedang menempuh pendidikan).  \n",
    "✅ Pertimbangkan **strategi penanganan** yang tepat:  \n",
    "   - Menghapus data yang hilang?  \n",
    "   - Mengisi nilai kosong dengan rata-rata/median/modus?  \n",
    "   - Menggunakan pendekatan lain seperti imputasi atau model prediktif?  "
   ]
  },
  {
   "cell_type": "code",
   "execution_count": null,
   "metadata": {},
   "outputs": [],
   "source": [
    "### Answer Question 15 Here"
   ]
  },
  {
   "cell_type": "markdown",
   "metadata": {},
   "source": [
    "### Jawab insight yang kamu dapatkan dari visualisasi tadi!"
   ]
  },
  {
   "cell_type": "markdown",
   "metadata": {},
   "source": [
    ">### 🔍 **Eksplorasi Lebih Lanjut pada Dataset!** \n",
    "- **Jangan hanya terpaku pada instruksi / soal sebelumnya!** Coba cari pola lain dalam dataset!  \n",
    "- Adakah hubungan menarik antara variabel lain yang belum dianalisis?  \n",
    "- **Jika ada tambahan / Improvisasi akan lebih bagus juga! 😋☝️**"
   ]
  },
  {
   "cell_type": "code",
   "execution_count": null,
   "metadata": {},
   "outputs": [],
   "source": [
    "### Lanjutin aja guys, makin banyak makin bagus hehehe~"
   ]
  },
  {
   "cell_type": "markdown",
   "metadata": {},
   "source": [
    "## **16. 🏁 Kesimpulan dari EDA**  \n",
    "\n",
    "Setelah melakukan eksplorasi data secara menyeluruh, saatnya merangkum **temuan utama** dari analisis yang telah dilakukan.  \n",
    "\n",
    "### 🔍 **Ringkasan Temuan**  \n",
    "📌 **Apa pola menarik yang ditemukan dalam dataset ini?**  \n",
    "📌 **Faktor-faktor apa yang paling berpengaruh terhadap kesehatan mental?**  \n",
    "\n",
    "### 🛠 **Apa yang Harus Dilakukan?**  \n",
    "✅ Rangkum hasil dari **visualisasi dan analisis statistik** yang telah dilakukan.  \n",
    "✅ Identifikasi variabel yang memiliki **hubungan kuat** dengan tingkat depresi.  \n",
    "✅ Simpulkan **temuan utama** secara sistematis untuk memberikan gambaran yang jelas tentang dataset ini.  \n"
   ]
  },
  {
   "cell_type": "markdown",
   "metadata": {},
   "source": [
    "### Jawab kesimpulan akhir banget disini :D"
   ]
  }
 ],
 "metadata": {
  "kernelspec": {
   "display_name": "py310",
   "language": "python",
   "name": "python3"
  },
  "language_info": {
   "codemirror_mode": {
    "name": "ipython",
    "version": 3
   },
   "file_extension": ".py",
   "mimetype": "text/x-python",
   "name": "python",
   "nbconvert_exporter": "python",
   "pygments_lexer": "ipython3",
   "version": "3.10.15"
  }
 },
 "nbformat": 4,
 "nbformat_minor": 2
}

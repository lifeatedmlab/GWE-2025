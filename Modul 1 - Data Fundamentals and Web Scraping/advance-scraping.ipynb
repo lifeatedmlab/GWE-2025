{
 "cells": [
  {
   "cell_type": "markdown",
   "metadata": {},
   "source": [
    "# Advance Scrapping Method\n",
    "> Mungkin beberapa hal ini bakal kalian butuhin, mungkin jarang dipake juga"
   ]
  },
  {
   "cell_type": "code",
   "execution_count": 1,
   "metadata": {},
   "outputs": [],
   "source": [
    "import requests\n",
    "from bs4 import BeautifulSoup\n",
    "import csv\n"
   ]
  },
  {
   "cell_type": "code",
   "execution_count": 8,
   "metadata": {},
   "outputs": [
    {
     "name": "stdout",
     "output_type": "stream",
     "text": [
      "Collecting google-play-scraper\n",
      "  Downloading google_play_scraper-1.2.6-py3-none-any.whl.metadata (50 kB)\n",
      "     ---------------------------------------- 0.0/50.2 kB ? eta -:--:--\n",
      "     -------------------------------- ------- 41.0/50.2 kB 2.0 MB/s eta 0:00:01\n",
      "     -------------------------------------- 50.2/50.2 kB 645.3 kB/s eta 0:00:00\n",
      "Downloading google_play_scraper-1.2.6-py3-none-any.whl (28 kB)\n",
      "Installing collected packages: google-play-scraper\n",
      "Successfully installed google-play-scraper-1.2.6\n"
     ]
    },
    {
     "name": "stderr",
     "output_type": "stream",
     "text": [
      "\n",
      "[notice] A new release of pip is available: 23.3.1 -> 24.0\n",
      "[notice] To update, run: python.exe -m pip install --upgrade pip\n"
     ]
    }
   ],
   "source": [
    "!pip install google-play-scraper"
   ]
  },
  {
   "cell_type": "code",
   "execution_count": 9,
   "metadata": {},
   "outputs": [],
   "source": [
    "from google_play_scraper import app\n",
    "\n",
    "result = app(\n",
    "    'com.nianticlabs.pokemongo',\n",
    "    lang='en', # defaults to 'en'\n",
    "    country='us' # defaults to 'us'\n",
    ")"
   ]
  },
  {
   "cell_type": "code",
   "execution_count": 10,
   "metadata": {},
   "outputs": [
    {
     "name": "stdout",
     "output_type": "stream",
     "text": [
      "{'title': 'Pokémon GO', 'description': 'New! Now you can battle other Pokémon GO Trainers online! Try the GO Battle League today!\\r\\n\\r\\nJoin Trainers across the globe who are discovering Pokémon as they explore the world around them. Pokémon GO is the global gaming sensation that has been downloaded over 1 billion times and named “Best Mobile Game” by the Game Developers Choice Awards and “Best App of the Year” by TechCrunch.\\r\\n_______________\\r\\n\\r\\nUncover the world of Pokémon: Explore and discover Pokémon wherever you are!\\r\\n \\r\\nCatch more Pokémon to complete your Pokédex!\\r\\n \\r\\nJourney alongside your Buddy Pokémon to help make your Pokémon stronger and earn rewards!\\r\\n\\r\\nCompete in epic Gym battles and...Team up with other Trainers to catch powerful Pokémon during Raid Battles!\\r\\n \\r\\nIt’s time to get moving—your real-life adventures await! Let’s GO!\\r\\n_______________\\r\\n\\r\\nNotes: \\r\\n- This app is free-to-play and offers in-game purchases. It is optimized for smartphones, not tablets.\\r\\n- Compatible with Android devices that have 2GB RAM or more and have Android Version 6.0–10.0+ installed.\\r\\n- Compatibility is not guaranteed for devices without GPS capabilities or devices that are connected only to Wi-Fi networks.\\r\\n- Application may not run on certain devices even if they have compatible OS versions installed.\\r\\n- It is recommended to play while connected to a network in order to obtain accurate location information.\\r\\n- Compatibility information may be changed at any time.\\r\\n- Please visit PokemonGO.com for additional compatibility information. \\r\\n- Information current as of October 20, 2020.', 'descriptionHTML': 'New! Now you can battle other Pokémon GO Trainers online! Try the GO Battle League today!<br><br>Join Trainers across the globe who are discovering Pokémon as they explore the world around them. Pokémon GO is the global gaming sensation that has been downloaded over 1 billion times and named “Best Mobile Game” by the Game Developers Choice Awards and “Best App of the Year” by TechCrunch.<br>_______________<br><br>Uncover the world of Pokémon: Explore and discover Pokémon wherever you are!<br> <br>Catch more Pokémon to complete your Pokédex!<br> <br>Journey alongside your Buddy Pokémon to help make your Pokémon stronger and earn rewards!<br><br>Compete in epic Gym battles and...Team up with other Trainers to catch powerful Pokémon during Raid Battles!<br> <br>It’s time to get moving—your real-life adventures await! Let’s GO!<br>_______________<br><br>Notes: <br>- This app is free-to-play and offers in-game purchases. It is optimized for smartphones, not tablets.<br>- Compatible with Android devices that have 2GB RAM or more and have Android Version 6.0–10.0+ installed.<br>- Compatibility is not guaranteed for devices without GPS capabilities or devices that are connected only to Wi-Fi networks.<br>- Application may not run on certain devices even if they have compatible OS versions installed.<br>- It is recommended to play while connected to a network in order to obtain accurate location information.<br>- Compatibility information may be changed at any time.<br>- Please visit PokemonGO.com for additional compatibility information. <br>- Information current as of October 20, 2020.', 'summary': 'Discover Pokémon worldwide', 'installs': '100,000,000+', 'minInstalls': 100000000, 'realInstalls': 491440784, 'score': 4.0649347, 'ratings': 15446596, 'reviews': 991812, 'histogram': [2213434, 621689, 924279, 1876183, 9810996], 'price': 0, 'free': True, 'currency': 'USD', 'sale': False, 'saleTime': None, 'originalPrice': None, 'saleText': None, 'offersIAP': True, 'inAppProductPrice': '$0.99 - $99.99 per item', 'developer': 'Niantic, Inc.', 'developerId': 'Niantic,+Inc.', 'developerEmail': 'pokemon-go-support@nianticlabs.com', 'developerWebsite': 'http://pokemongo.nianticlabs.com/', 'developerAddress': 'One Ferry Building, Suite 200\\nSan Francisco, CA 94111', 'privacyPolicy': 'https://nianticlabs.com/privacy/pokemongo/en', 'genre': 'Adventure', 'genreId': 'GAME_ADVENTURE', 'categories': [{'name': 'Adventure', 'id': 'GAME_ADVENTURE'}, {'name': 'Casual', 'id': 'GAME_CASUAL'}, {'name': 'Multiplayer', 'id': None}, {'name': 'Competitive multiplayer', 'id': None}, {'name': 'Single player', 'id': None}, {'name': 'Stylized', 'id': None}, {'name': 'Anime', 'id': None}], 'icon': 'https://play-lh.googleusercontent.com/6qUR3CmTyz3lMdMK8GENfibQ9ZQIIgHIP3_pgnYcuG04ykheKtl-dhyPzjlvhF_MANI', 'headerImage': 'https://play-lh.googleusercontent.com/KgDQ-Kjb2B7_jDP-8KmQDNhAmP2lqAV_w3zArOCBL7YZnQ02Qqp4VTlgdocO-4MFk4s', 'screenshots': ['https://play-lh.googleusercontent.com/gicEDV-BJc1PY13rLDGuebXNGHsk_GF4GCdFWAtCooyW_Xw_qNDUyYF-bopl19W0Hqs', 'https://play-lh.googleusercontent.com/qvm_j2OvCfasw-z7YyAUXJV6h5kNSKTbVDw__BHLGqxz8zrTogigrmTXojkgX7cWC7o', 'https://play-lh.googleusercontent.com/fjnCrYR86msXmTssUMaOifVhoWJ-QoMC0O2hU6dSAMYc6geXgvzn1ObfMNz_vrcbe6A', 'https://play-lh.googleusercontent.com/gFj-QxrmiI8u2O-BTwyeUHqbqLaaMZjU66LU1W4PpWz2n4U1ZiV9gxv0O7HoO23jH-PZ', 'https://play-lh.googleusercontent.com/pGlRAeZNDNTCOnLNeXCiE4kmcLAkwCUVDqZU7ZFq4SfqM46BkVAqmqegLP0CU7Spfg', 'https://play-lh.googleusercontent.com/bZ8TX85v6Qq1eRTrr850PnhMD6F4oiIzmlLyB6wQN_aTpDrffCmcmcbMIl1PoAu0RA', 'https://play-lh.googleusercontent.com/xp11q0YaSpZov3RToYffqXObKMwAUKbaLT1Y__dK8AElI36cziDdtJy2fLEztx91I0xj'], 'video': 'https://www.youtube.com/embed/p2C4QSgAf8M?ps=play&vq=large&rel=0&autohide=1&showinfo=0', 'videoImage': 'https://play-lh.googleusercontent.com/KgDQ-Kjb2B7_jDP-8KmQDNhAmP2lqAV_w3zArOCBL7YZnQ02Qqp4VTlgdocO-4MFk4s', 'contentRating': 'Everyone', 'contentRatingDescription': 'Mild Fantasy Violence', 'adSupported': False, 'containsAds': False, 'released': 'Jul 6, 2016', 'lastUpdatedOn': 'Mar 28, 2024', 'updated': 1711644849, 'version': '0.305.1', 'comments': [\"Have loved it until yesterday. I got into Go way late but have absolutely loved it. It's had a few minor bugs but they've generally been fixed. I'm a daily player and it's maintained its entertainment value for me without having to pay for a single feature. Yesterday it broke. It won't get past loading the map without crashing. Hopefully there's a bug fix soon.\", \"WELL IT'S OFFICIAL!! POKEMON GO IS UNPLAYABLE!!! You open up the game and loads. As soon as the map screen appears, it closes! You're back on your home screen. You try to open it again and it's the same result. It closes when the map screen appears. I haven't been able to play it in over a week. Clearing data doesn't fix it. Uninstalling it and installing doesn't help.\", \"This game could be annoying at times, especially with its dependence on group play mechanics, but was otherwise fun enough. However, back in early January, while traveling in south America, it stopped working and wouldn't let me log in. When I got home I could, but I had to Uninstall and reinstall to do so, and if I ever left the screen or closed the app, it would refuse to let me log in without uninstalling first. 2 months later and despite trying everything suggested, it still doesn't work.😡\", \"I have mixed feelings about this app. Currently it won't let me open the app. Everytime I try it crashes. I uninstalled and reinstalled the app and it still crashes. It's buggy with raid passes that are special and will kick you out which is frustrating. If you complain about the problem (which is a process) you get no compensation or aren't heard. There's a lot that could be better and I mean A LOT which is a shame because I really enjoy playing! Been playing since late 2016!\", \"This game is good, however the World of Wonders update has made the game unplayable for me, literally. When I open the game, nothing loads, and then after a few seconds it crashes. I've tried re opening the game, re downloading the game, erasing some data, but nothing has worked. Please let me know what I can do to fix it or try to see if it's a bug. Thank you!\", \"I enjoy the game. However, the changes made to redeeming codes is absolutely infuriating. What was once a very simple in app process has become a multi-syep process that you may or may not be able to complete due to what your account is linked to. I'm not sure what money grab caused this change, but it is another inconvenience added to a lengthening list of incessant cash-grabs, causing players to leave the game in droves.\", \"I'd give this app zero stars if I could. It could be so much better. But rather than fix any bugs you report they add another update. With this latest one. I've had to reload the app 8 times in fifteen minutes! Not any issues except with the app itself. Done all the trouble shooting and it's your app side because friends of mine are experiencing it as well. I'd say this is garbage but it's more like a dumpster fire. As far as recommending this app to any. Not at all. Not ever.\", \"For some reason my game no longer opens beyond 2 seconds. I played daily for the last month or longer, been making progress, looking forward to making poke stops in rural areas, but literally over night I can no longer play. I have follwed the emails to find assistance but it says to open the app to contact the developers, so essentially i am screwed. I do like the game, it's dynamic enough to have multiple aspects to the game and I can progress through the game without investing money.\", \"I've had this game for years and put so much time and a little bit of money into it over the time. throughout the years they've leaned heavy towards the pay to play/do well side. about a week and a half ago, the latest update hit, and basically rendered the game useless, as it now immediately kicks me out saying the app has a bug. I am certain Niantic knows about it, but seems to refuse to fix it. there is also virtually no way to contact their support outside of the game.\", \"Specific to the 03/18/2024 update. This release is bug-filled with incomplete programed compatibility with many newer android phones. For example, my phone is not quite 2 years old; it is on their and Google's fully compatible list, but the app does not allow Buddy AR, resulting in a huge degradation in functionality. It seems this version was released prematurely, with compatibility issues not fully resolved, so user experience will vary significantly. Rookie mistake, and quite unprofessional.\", \"If you have any of the fold type phones, tablet mode might have some functions that are not able to be used. My outer screen died(different problem altogether) so I can only use tablet mode, and I can't give gifts at all to anyone. I also cannot use the sort functions properly when trying to look for Pokémon, as the menus are sized wrong. If someone could reach out, that would be awesome.\", \"Good game, but ... as of the new update game keeps crashing. I've done all the steps with clearing and disabled and uninstalling . First was bug screen . I think it's gps issue I turn off my location I was able to join a raid with no issues can actually stay on the screen of game. It's just anything to do with my actual location it shuts down after I turn location on. I have never cheated in the game. Tried reporting the issue didn't get anywhere.\", \"Fun game, I've really enjoyed the new features to the game. Routes make this much easier to encourage play at parks. This game really needs a subscription or a season/battle pass. I'm tired of all the paid random ticketed special research. It feels like there's been of lot of tickets to buy lately. I would gladly pay to play the game, in terms of play time, enjoyment and quality time I've had with my fiance, the devs deserve the tip.\", \"The game gets to the map, then crashes. My phone pops up a notification saying there's a bug and that the game needs to be updated once the bug is fixed. I've tried to email a screenshot and get the auto response telling me to reach for help in game. How can I get help in game if the game keeps crashing before I can even see the map? Please fix this.\", 'Pros: Great game overall, I really enjoy playing till these most recent problems occured. Cons: the game does lags\\' occasionally, Takes too long to load the game, and now the game gave me a error msg. I can\\'t play with my buddy to level it up more. Now it says an error message, \" unsupported device for Buddy AR\". Same message for \"AR Mapping.\" The game lags so bad now it will crash randomly and occasionally will log you out at the loading screen when it takes so long to load from the lag.', \"Before the latest update, the game was working completely fine, I almost never have any issues besides the buffering and lag upon startup but it does eventually render to its fullest. However due to a recent update, the game is unplayable, I can't use AR mode anymore because it says device is incompatible with AR for some reason, it was working prior to the update, I had spent a lot of time and money over the years and at this point I'm officially done with it. Never downloading it again.\", \"Would rate it 5 stars, as I'm a daily player. I've had no recent crashes, except for tonight when I went to play with my buddy, it's telling me that the AR doesn't work. I've been using the same phone for a few years now and then all of a suddenly I can't play with my buddy to earn hearts. I've done nothing differently with my phone and haven't changed any settings, both phone and game are up to date. Please fix this issue!\", \"Keeps crashing, losing battles because screen freezes, love the game but it's getting irritating! Can we please get this fixed I love playing this game. But have uninstalled and reinstalled so many times just to get it to crash again. Help please fix this bug. It's now March things went good for a bit now I can't even get into the game at all. I have deleted and reinstalled and still nothing. Really getting aggravating please fix this.\", \"Ever since update, I can't open game beyond 2 seconds. It crashes immediately and my phone says the app has a bug. PLEASE HELP NIANTIC!! I haven't been able to play for 3 days now!!! Great game! So much fun and Niantic is ALWAYS trying to add new things and keep the game fresh. They'd get 5 stars if their boxes weren't so skimpy on star pieces.\", \"Long time player. I was able to get in on 3-4-2024 or 3-5-2024 but today of 3-6-2024 the game has crashed more than 5 times and it's always when the Pokemon are trying to load in. I hope the dev's can fix this. I tried restarting my phone, nope. I tried uninstalling and reinstalling, nope. Still crashes. I enjoy this game and would like to play whenever whatever is going on is fixed. I recommend it whenever it's not being buggy and laggy.\"], 'appId': 'com.nianticlabs.pokemongo', 'url': 'https://play.google.com/store/apps/details?id=com.nianticlabs.pokemongo&hl=en&gl=us'}\n"
     ]
    }
   ],
   "source": [
    "print(result)"
   ]
  },
  {
   "cell_type": "code",
   "execution_count": 2,
   "metadata": {},
   "outputs": [],
   "source": [
    "# link html web yang mau di scrap\n",
    "url = 'https://jdih.kemendesa.go.id/'\n",
    "headers = {'User-Agent':'Mozilla/5.0 (Windows NT 10.0; Win64; x64) AppleWebKit/537.36 (KHTML, like Gecko) Chrome/123.0.0.0 Safari/537.36'\n",
    "}"
   ]
  },
  {
   "cell_type": "code",
   "execution_count": 3,
   "metadata": {},
   "outputs": [
    {
     "name": "stdout",
     "output_type": "stream",
     "text": [
      "<Response [200]>\n"
     ]
    }
   ],
   "source": [
    "req = requests.get(url, headers=headers)\n",
    "print(req)"
   ]
  },
  {
   "cell_type": "markdown",
   "metadata": {},
   "source": [
    "## Print HTML in Python"
   ]
  },
  {
   "cell_type": "code",
   "execution_count": 70,
   "metadata": {},
   "outputs": [],
   "source": [
    "%%capture\n",
    "soup = BeautifulSoup(req.text, 'html.parser')\n",
    "print(soup.prettify())"
   ]
  },
  {
   "cell_type": "code",
   "execution_count": 57,
   "metadata": {},
   "outputs": [],
   "source": [
    "book = soup.find_all('div', 'td_module_17 td_module_wrap td-animation-stack')"
   ]
  },
  {
   "cell_type": "code",
   "execution_count": 56,
   "metadata": {},
   "outputs": [
    {
     "name": "stdout",
     "output_type": "stream",
     "text": [
      "Indonesia dari Timur\n",
      "Pasutri Gaje\n",
      "Ali Topan\n",
      "Kereta Berdarah\n",
      "Eksil\n",
      "Agak Laen\n"
     ]
    }
   ],
   "source": [
    "for i in book:\n",
    "  title = i.find('h3', 'entry-title td-module-title').text\n",
    "  print(title)"
   ]
  },
  {
   "cell_type": "markdown",
   "metadata": {},
   "source": [
    "## Image Scraping"
   ]
  },
  {
   "cell_type": "code",
   "execution_count": 59,
   "metadata": {},
   "outputs": [
    {
     "name": "stdout",
     "output_type": "stream",
     "text": [
      "https://montasefilm.com/wp-content/uploads/2024/02/httpswww.imdb_.comtitlett31108426mediaviewerrm1795375361ref_tt_ov_i.jpg\n",
      "https://montasefilm.com/wp-content/uploads/2024/02/httpswww.imdb_.comtitlett28131321mediaviewerrm4008723201ref_ttmi_mi_all_sf_8-696x385.jpg\n",
      "https://montasefilm.com/wp-content/uploads/2024/02/httpswww.imdb_.comtitlett26923485mediaviewerrm816008705ref_ttmi_mi_all_sf_21-696x385.jpg\n",
      "https://montasefilm.com/wp-content/uploads/2024/02/httpswww.imdb_.comtitlett29545351mediaviewerrm2392673537ref_tt_md_3-696x385.jpg\n",
      "https://montasefilm.com/wp-content/uploads/2024/02/httpswww.imdb_.comtitlett30888947mediaviewerrm2747157505ref_tt_ov_i-696x385.jpg\n",
      "https://montasefilm.com/wp-content/uploads/2024/02/httpswww.imdb_.comtitlett28856462mediaviewerrm2627879425ref_tt_mi_sm-696x385.jpg\n"
     ]
    }
   ],
   "source": [
    "for i in book:\n",
    "  image = i.find('div', 'td-module-thumb').find('img')['data-img-url']\n",
    "  print(image)"
   ]
  },
  {
   "cell_type": "markdown",
   "metadata": {},
   "source": [
    "## Star Review Scraping"
   ]
  },
  {
   "cell_type": "code",
   "execution_count": 68,
   "metadata": {},
   "outputs": [],
   "source": [
    "# buat perhitungan kalkulasi star\n",
    "star_counter = {\n",
    "    \"td-icon-star\": 1,\n",
    "    \"td-icon-star-half\": 0.5,\n",
    "    \"td-icon-star-empty\": 0\n",
    "}"
   ]
  },
  {
   "cell_type": "code",
   "execution_count": 69,
   "metadata": {},
   "outputs": [
    {
     "name": "stdout",
     "output_type": "stream",
     "text": [
      "3.5\n",
      "3.5\n",
      "3.5\n",
      "3\n",
      "4.5\n",
      "4\n"
     ]
    }
   ],
   "source": [
    "for film in book:\n",
    "    # find all semua star\n",
    "    star_elements = film.find_all('i', class_=lambda x: x and x.startswith('td-icon-star'))\n",
    "    \n",
    "    total_rating = 0\n",
    "    \n",
    "    # masing-masing star\n",
    "    for element in star_elements:\n",
    "        star_class = element['class'][0]\n",
    "        star_rating = star_counter.get(star_class, 0)\n",
    "        total_rating += star_rating \n",
    "    print(total_rating)"
   ]
  },
  {
   "cell_type": "markdown",
   "metadata": {},
   "source": [
    "## Read scraping result"
   ]
  },
  {
   "cell_type": "code",
   "execution_count": 8,
   "metadata": {},
   "outputs": [],
   "source": [
    "import pandas as pd"
   ]
  },
  {
   "cell_type": "code",
   "execution_count": 74,
   "metadata": {},
   "outputs": [
    {
     "data": {
      "text/html": [
       "<div>\n",
       "<style scoped>\n",
       "    .dataframe tbody tr th:only-of-type {\n",
       "        vertical-align: middle;\n",
       "    }\n",
       "\n",
       "    .dataframe tbody tr th {\n",
       "        vertical-align: top;\n",
       "    }\n",
       "\n",
       "    .dataframe thead th {\n",
       "        text-align: right;\n",
       "    }\n",
       "</style>\n",
       "<table border=\"1\" class=\"dataframe\">\n",
       "  <thead>\n",
       "    <tr style=\"text-align: right;\">\n",
       "      <th></th>\n",
       "      <th>user</th>\n",
       "      <th>comment date</th>\n",
       "      <th>review content</th>\n",
       "    </tr>\n",
       "  </thead>\n",
       "  <tbody>\n",
       "    <tr>\n",
       "      <th>0</th>\n",
       "      <td>cassiasimone8</td>\n",
       "      <td>12 Mar 2024</td>\n",
       "      <td>CINEMA!!!!!!!!!!!!!!</td>\n",
       "    </tr>\n",
       "    <tr>\n",
       "      <th>1</th>\n",
       "      <td>Sahil</td>\n",
       "      <td>12 Mar 2024</td>\n",
       "      <td>Dune: Part Two is techinal film-making at its ...</td>\n",
       "    </tr>\n",
       "    <tr>\n",
       "      <th>2</th>\n",
       "      <td>Mace</td>\n",
       "      <td>13 Mar 2024</td>\n",
       "      <td>I’m obsessed. I love this one more than first....</td>\n",
       "    </tr>\n",
       "    <tr>\n",
       "      <th>3</th>\n",
       "      <td>Micha Jetter</td>\n",
       "      <td>13 Mar 2024</td>\n",
       "      <td>Ton im Kino war eindeutig zu laut, aber als ma...</td>\n",
       "    </tr>\n",
       "    <tr>\n",
       "      <th>4</th>\n",
       "      <td>Emm</td>\n",
       "      <td>13 Mar 2024</td>\n",
       "      <td>Vista 09/03</td>\n",
       "    </tr>\n",
       "  </tbody>\n",
       "</table>\n",
       "</div>"
      ],
      "text/plain": [
       "            user comment date  \\\n",
       "0  cassiasimone8  12 Mar 2024   \n",
       "1          Sahil  12 Mar 2024   \n",
       "2           Mace  13 Mar 2024   \n",
       "3   Micha Jetter  13 Mar 2024   \n",
       "4            Emm  13 Mar 2024   \n",
       "\n",
       "                                      review content  \n",
       "0                               CINEMA!!!!!!!!!!!!!!  \n",
       "1  Dune: Part Two is techinal film-making at its ...  \n",
       "2  I’m obsessed. I love this one more than first....  \n",
       "3  Ton im Kino war eindeutig zu laut, aber als ma...  \n",
       "4                                        Vista 09/03  "
      ]
     },
     "execution_count": 74,
     "metadata": {},
     "output_type": "execute_result"
    }
   ],
   "source": [
    "df = pd.read_csv('scrap-result\\scrap-letterboxd-dunetwo-2024-03-13.csv')\n",
    "df.head()"
   ]
  },
  {
   "cell_type": "code",
   "execution_count": 9,
   "metadata": {},
   "outputs": [
    {
     "data": {
      "text/html": [
       "<div>\n",
       "<style scoped>\n",
       "    .dataframe tbody tr th:only-of-type {\n",
       "        vertical-align: middle;\n",
       "    }\n",
       "\n",
       "    .dataframe tbody tr th {\n",
       "        vertical-align: top;\n",
       "    }\n",
       "\n",
       "    .dataframe thead th {\n",
       "        text-align: right;\n",
       "    }\n",
       "</style>\n",
       "<table border=\"1\" class=\"dataframe\">\n",
       "  <thead>\n",
       "    <tr style=\"text-align: right;\">\n",
       "      <th></th>\n",
       "      <th>reviewer</th>\n",
       "      <th>content-review</th>\n",
       "    </tr>\n",
       "  </thead>\n",
       "  <tbody>\n",
       "    <tr>\n",
       "      <th>0</th>\n",
       "      <td>Reece</td>\n",
       "      <td>This review may contain spoilers. I can handl...</td>\n",
       "    </tr>\n",
       "    <tr>\n",
       "      <th>1</th>\n",
       "      <td>claire</td>\n",
       "      <td>This review may contain spoilers. I can handl...</td>\n",
       "    </tr>\n",
       "    <tr>\n",
       "      <th>2</th>\n",
       "      <td>Karst</td>\n",
       "      <td>one of those moviegoing experiences i’ll cher...</td>\n",
       "    </tr>\n",
       "    <tr>\n",
       "      <th>3</th>\n",
       "      <td>Bryan Espitia</td>\n",
       "      <td>Need a friend like Stilgar to hype me up all ...</td>\n",
       "    </tr>\n",
       "    <tr>\n",
       "      <th>4</th>\n",
       "      <td>ConnorEatsPants</td>\n",
       "      <td>i have seen the light of Islam</td>\n",
       "    </tr>\n",
       "  </tbody>\n",
       "</table>\n",
       "</div>"
      ],
      "text/plain": [
       "          reviewer                                     content-review\n",
       "0            Reece   This review may contain spoilers. I can handl...\n",
       "1           claire   This review may contain spoilers. I can handl...\n",
       "2            Karst   one of those moviegoing experiences i’ll cher...\n",
       "3    Bryan Espitia   Need a friend like Stilgar to hype me up all ...\n",
       "4  ConnorEatsPants                    i have seen the light of Islam "
      ]
     },
     "execution_count": 9,
     "metadata": {},
     "output_type": "execute_result"
    }
   ],
   "source": [
    "data = pd.read_csv('scrap-result\\hasil-scraping.csv')\n",
    "data.head()"
   ]
  }
 ],
 "metadata": {
  "kernelspec": {
   "display_name": "Python 3",
   "language": "python",
   "name": "python3"
  },
  "language_info": {
   "codemirror_mode": {
    "name": "ipython",
    "version": 3
   },
   "file_extension": ".py",
   "mimetype": "text/x-python",
   "name": "python",
   "nbconvert_exporter": "python",
   "pygments_lexer": "ipython3",
   "version": "3.10.11"
  }
 },
 "nbformat": 4,
 "nbformat_minor": 2
}

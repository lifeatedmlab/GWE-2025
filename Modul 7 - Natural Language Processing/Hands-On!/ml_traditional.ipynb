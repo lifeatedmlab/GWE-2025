{
 "cells": [
  {
   "cell_type": "markdown",
   "id": "97a5fe14",
   "metadata": {},
   "source": [
    "<div align=\"center\">\n",
    "  <h1><strong>Hands-On! GWE #7</strong></h1>\n",
    "</div>\n",
    "\n",
    "---"
   ]
  },
  {
   "cell_type": "markdown",
   "id": "8d56fc0b",
   "metadata": {},
   "source": [
    "## 📊 **Overview Dataset**\n",
    "Dataset yang digunakan dalam proyek ini diperoleh melalui proses scraping data komentar di TikTok, menggunakan script dari repository GitHub [cubernetes/TikTokCommentScraper](https://github.com/cubernetes/TikTokCommentScraper). File utama yang digunakan dalam proyek ini adalah `tiktok.csv`, yang berisi data komentar TikTok beserta label klasifikasinya. Berikut adalah deskripsi dari kolom-kolom yang ada dalam dataset tersebut:\n",
    "\n",
    "- **Text**: Kolom ini berisi teks dari komentar yang diambil dari video TikTok. Setiap entri adalah komentar unik dari pengguna TikTok.\n",
    "- **Label**: Kolom ini berisi label untuk setiap komentar yang menunjukkan apakah komentar tersebut termasuk dalam kategori **Bullying** atau **Non-Bullying**. Label ini berisi nilai biner:\n",
    "  - **0**: Non-Bullying, menunjukkan bahwa komentar tersebut tidak mengandung bullying.\n",
    "  - **1**: Bullying, menunjukkan bahwa komentar tersebut mengandung bullying."
   ]
  },
  {
   "cell_type": "code",
   "execution_count": 1,
   "id": "200c1ead",
   "metadata": {},
   "outputs": [
    {
     "name": "stdout",
     "output_type": "stream",
     "text": [
      "Requirement already satisfied: Sastrawi in c:\\users\\ahmad\\appdata\\local\\packages\\pythonsoftwarefoundation.python.3.11_qbz5n2kfra8p0\\localcache\\local-packages\\python311\\site-packages (1.0.1)\n"
     ]
    },
    {
     "name": "stderr",
     "output_type": "stream",
     "text": [
      "\n",
      "[notice] A new release of pip is available: 24.2 -> 25.1\n",
      "[notice] To update, run: C:\\Users\\ahmad\\AppData\\Local\\Microsoft\\WindowsApps\\PythonSoftwareFoundation.Python.3.11_qbz5n2kfra8p0\\python.exe -m pip install --upgrade pip\n"
     ]
    },
    {
     "name": "stdout",
     "output_type": "stream",
     "text": [
      "Requirement already satisfied: indoNLP in c:\\users\\ahmad\\appdata\\local\\packages\\pythonsoftwarefoundation.python.3.11_qbz5n2kfra8p0\\localcache\\local-packages\\python311\\site-packages (0.3.4)\n"
     ]
    },
    {
     "name": "stderr",
     "output_type": "stream",
     "text": [
      "\n",
      "[notice] A new release of pip is available: 24.2 -> 25.1\n",
      "[notice] To update, run: C:\\Users\\ahmad\\AppData\\Local\\Microsoft\\WindowsApps\\PythonSoftwareFoundation.Python.3.11_qbz5n2kfra8p0\\python.exe -m pip install --upgrade pip\n"
     ]
    }
   ],
   "source": [
    "# Install Sastrawi dan IndoNLP jika belum ada\n",
    "!pip install Sastrawi\n",
    "!pip install indoNLP"
   ]
  },
  {
   "cell_type": "markdown",
   "id": "df3690dc",
   "metadata": {},
   "source": [
    "# Import Library"
   ]
  },
  {
   "cell_type": "code",
   "execution_count": 2,
   "id": "5612cfed",
   "metadata": {},
   "outputs": [
    {
     "name": "stderr",
     "output_type": "stream",
     "text": [
      "[nltk_data] Downloading package punkt to\n",
      "[nltk_data]     C:\\Users\\ahmad\\AppData\\Roaming\\nltk_data...\n",
      "[nltk_data]   Package punkt is already up-to-date!\n"
     ]
    }
   ],
   "source": [
    "import pandas as pd\n",
    "import numpy as np\n",
    "import re\n",
    "from indoNLP.preprocessing import remove_html, remove_url, replace_slang, replace_word_elongation, emoji_to_words\n",
    "from Sastrawi.Stemmer.StemmerFactory import StemmerFactory\n",
    "from Sastrawi.StopWordRemover.StopWordRemoverFactory import StopWordRemoverFactory\n",
    "from sklearn.feature_extraction.text import TfidfVectorizer\n",
    "from sklearn.model_selection import train_test_split\n",
    "from sklearn.naive_bayes import MultinomialNB\n",
    "from sklearn.svm import SVC\n",
    "from sklearn.ensemble import RandomForestClassifier\n",
    "from sklearn.metrics import accuracy_score, precision_score, recall_score, f1_score, confusion_matrix, classification_report\n",
    "import nltk\n",
    "from nltk.tokenize import word_tokenize\n",
    "import matplotlib.pyplot as plt\n",
    "import seaborn as sns\n",
    "import uuid\n",
    "\n",
    "nltk.download('punkt')\n",
    "\n",
    "\n",
    "import warnings\n",
    "warnings.filterwarnings(\"ignore\")\n",
    "\n",
    "plt.style.use(\"ggplot\")\n",
    "pd.set_option(\"display.max_colwidth\", None)\n",
    "pd.set_option('display.max_rows', None)"
   ]
  },
  {
   "cell_type": "markdown",
   "id": "d956fe33",
   "metadata": {},
   "source": [
    "# Data Understanding"
   ]
  },
  {
   "cell_type": "code",
   "execution_count": 3,
   "id": "791ddd9c",
   "metadata": {},
   "outputs": [
    {
     "data": {
      "text/html": [
       "<div>\n",
       "<style scoped>\n",
       "    .dataframe tbody tr th:only-of-type {\n",
       "        vertical-align: middle;\n",
       "    }\n",
       "\n",
       "    .dataframe tbody tr th {\n",
       "        vertical-align: top;\n",
       "    }\n",
       "\n",
       "    .dataframe thead th {\n",
       "        text-align: right;\n",
       "    }\n",
       "</style>\n",
       "<table border=\"1\" class=\"dataframe\">\n",
       "  <thead>\n",
       "    <tr style=\"text-align: right;\">\n",
       "      <th></th>\n",
       "      <th>Text</th>\n",
       "      <th>Label</th>\n",
       "    </tr>\n",
       "  </thead>\n",
       "  <tbody>\n",
       "    <tr>\n",
       "      <th>0</th>\n",
       "      <td>cipung baju zumba cu bgt🤏🏼</td>\n",
       "      <td>0</td>\n",
       "    </tr>\n",
       "    <tr>\n",
       "      <th>1</th>\n",
       "      <td>Kenapa dia kalo di luar negeri suka pake baju zumba😭</td>\n",
       "      <td>0</td>\n",
       "    </tr>\n",
       "    <tr>\n",
       "      <th>2</th>\n",
       "      <td>bener bener mirip olga</td>\n",
       "      <td>0</td>\n",
       "    </tr>\n",
       "    <tr>\n",
       "      <th>3</th>\n",
       "      <td>cipung ketemu yuki kato</td>\n",
       "      <td>0</td>\n",
       "    </tr>\n",
       "    <tr>\n",
       "      <th>4</th>\n",
       "      <td>cipung era baju zumba is back😂</td>\n",
       "      <td>0</td>\n",
       "    </tr>\n",
       "  </tbody>\n",
       "</table>\n",
       "</div>"
      ],
      "text/plain": [
       "                                                   Text  Label\n",
       "0                            cipung baju zumba cu bgt🤏🏼      0\n",
       "1  Kenapa dia kalo di luar negeri suka pake baju zumba😭      0\n",
       "2                                bener bener mirip olga      0\n",
       "3                               cipung ketemu yuki kato      0\n",
       "4                        cipung era baju zumba is back😂      0"
      ]
     },
     "execution_count": 3,
     "metadata": {},
     "output_type": "execute_result"
    }
   ],
   "source": [
    "# Load dataset\n",
    "df = pd.read_csv('tiktok.csv')\n",
    "df.head()"
   ]
  },
  {
   "cell_type": "code",
   "execution_count": 4,
   "id": "e62997b4",
   "metadata": {},
   "outputs": [
    {
     "name": "stdout",
     "output_type": "stream",
     "text": [
      "<class 'pandas.core.frame.DataFrame'>\n",
      "RangeIndex: 10526 entries, 0 to 10525\n",
      "Data columns (total 2 columns):\n",
      " #   Column  Non-Null Count  Dtype \n",
      "---  ------  --------------  ----- \n",
      " 0   Text    10526 non-null  object\n",
      " 1   Label   10526 non-null  int64 \n",
      "dtypes: int64(1), object(1)\n",
      "memory usage: 164.6+ KB\n"
     ]
    }
   ],
   "source": [
    "df.info()"
   ]
  },
  {
   "cell_type": "code",
   "execution_count": 5,
   "id": "efb5b8e9",
   "metadata": {},
   "outputs": [
    {
     "data": {
      "image/png": "[encoded data removed]",
      "text/plain": [
       "<Figure size 800x600 with 1 Axes>"
      ]
     },
     "metadata": {},
     "output_type": "display_data"
    }
   ],
   "source": [
    "# Ubah label numerik jadi label teks\n",
    "df['LabelText'] = df['Label'].map({0: 'Non-Bullying', 1: 'Bullying'})\n",
    "\n",
    "# Plot\n",
    "plt.figure(figsize=(8, 6))\n",
    "ax = sns.countplot(data=df, x='LabelText', palette=['#66c2a5', '#fc8d62'])\n",
    "\n",
    "# Tambahkan label jumlah di atas bar\n",
    "for p in ax.patches:\n",
    "    count = int(p.get_height())\n",
    "    ax.annotate(f'{count}', (p.get_x() + p.get_width() / 2., p.get_height()),\n",
    "                ha='center', va='bottom', fontsize=11, color='black', fontweight='bold')\n",
    "\n",
    "# Tambahan visual\n",
    "plt.title('Distribusi Sentimen Bullying', fontsize=14, fontweight='bold')\n",
    "plt.xlabel('Kategori Sentimen', fontsize=12)\n",
    "plt.ylabel('Jumlah', fontsize=12)\n",
    "sns.despine()\n",
    "plt.tight_layout()\n",
    "plt.show()"
   ]
  },
  {
   "cell_type": "markdown",
   "id": "75f204a1",
   "metadata": {},
   "source": [
    "# Text Cleaning"
   ]
  },
  {
   "cell_type": "code",
   "execution_count": 6,
   "id": "afd010f2",
   "metadata": {},
   "outputs": [
    {
     "data": {
      "text/html": [
       "<div>\n",
       "<style scoped>\n",
       "    .dataframe tbody tr th:only-of-type {\n",
       "        vertical-align: middle;\n",
       "    }\n",
       "\n",
       "    .dataframe tbody tr th {\n",
       "        vertical-align: top;\n",
       "    }\n",
       "\n",
       "    .dataframe thead th {\n",
       "        text-align: right;\n",
       "    }\n",
       "</style>\n",
       "<table border=\"1\" class=\"dataframe\">\n",
       "  <thead>\n",
       "    <tr style=\"text-align: right;\">\n",
       "      <th></th>\n",
       "      <th>Text</th>\n",
       "      <th>Cleaned_Text</th>\n",
       "    </tr>\n",
       "  </thead>\n",
       "  <tbody>\n",
       "    <tr>\n",
       "      <th>0</th>\n",
       "      <td>cipung baju zumba cu bgt🤏🏼</td>\n",
       "      <td>cipung baju zumba cu banget tanganmenjepit warnakulitcerahsedang</td>\n",
       "    </tr>\n",
       "    <tr>\n",
       "      <th>1</th>\n",
       "      <td>Kenapa dia kalo di luar negeri suka pake baju zumba😭</td>\n",
       "      <td>kenapa dia kalo di luar negeri suka pakai baju zumba wajahmenangiskeras</td>\n",
       "    </tr>\n",
       "    <tr>\n",
       "      <th>2</th>\n",
       "      <td>bener bener mirip olga</td>\n",
       "      <td>benar benar mirip olga</td>\n",
       "    </tr>\n",
       "    <tr>\n",
       "      <th>3</th>\n",
       "      <td>cipung ketemu yuki kato</td>\n",
       "      <td>cipung ketemu yuki kato</td>\n",
       "    </tr>\n",
       "    <tr>\n",
       "      <th>4</th>\n",
       "      <td>cipung era baju zumba is back😂</td>\n",
       "      <td>cipung era baju zumba is back wajahgembiraberuraiairmata</td>\n",
       "    </tr>\n",
       "  </tbody>\n",
       "</table>\n",
       "</div>"
      ],
      "text/plain": [
       "                                                   Text  \\\n",
       "0                            cipung baju zumba cu bgt🤏🏼   \n",
       "1  Kenapa dia kalo di luar negeri suka pake baju zumba😭   \n",
       "2                                bener bener mirip olga   \n",
       "3                               cipung ketemu yuki kato   \n",
       "4                        cipung era baju zumba is back😂   \n",
       "\n",
       "                                                              Cleaned_Text  \n",
       "0         cipung baju zumba cu banget tanganmenjepit warnakulitcerahsedang  \n",
       "1  kenapa dia kalo di luar negeri suka pakai baju zumba wajahmenangiskeras  \n",
       "2                                                   benar benar mirip olga  \n",
       "3                                                  cipung ketemu yuki kato  \n",
       "4                 cipung era baju zumba is back wajahgembiraberuraiairmata  "
      ]
     },
     "execution_count": 6,
     "metadata": {},
     "output_type": "execute_result"
    }
   ],
   "source": [
    "def clean_text(text):\n",
    "    # Konversi ke lowercase\n",
    "    text = text.lower()\n",
    "    # Hapus username\n",
    "    text = re.sub(r'<username>', '', text)\n",
    "    # Hapus HTML tags\n",
    "    text = remove_html(text)\n",
    "    # Hapus URL\n",
    "    text = remove_url(text)\n",
    "    # Ganti slang words\n",
    "    text = replace_slang(text)\n",
    "    # Handle word elongation\n",
    "    text = replace_word_elongation(text)\n",
    "    # Tambahkan spasi di sekitar emoji sebelum konversi\n",
    "    text = re.sub(r'([\\U00010000-\\U0010ffff])', r' \\1 ', text)  # spasi di antara emoji UTF-8\n",
    "    # Konversi emoji ke kata\n",
    "    text = emoji_to_words(text)\n",
    "    # Tambahkan spasi di antara kata-kata gabungan\n",
    "    text = re.sub(r'([a-z])([A-Z])', r'\\1 \\2', text)  # Pisah kata jika ada gabungan kata kapital\n",
    "    # Hapus karakter khusus dan angka\n",
    "    text = re.sub(r'[^a-z\\s]', '', text)\n",
    "    # Hapus spasi berlebih\n",
    "    text = ' '.join(text.split())\n",
    "    return text\n",
    "\n",
    "# Terapkan pembersihan teks\n",
    "df['Cleaned_Text'] = df['Text'].apply(clean_text)\n",
    "df[['Text', 'Cleaned_Text']].head()"
   ]
  },
  {
   "cell_type": "markdown",
   "id": "b39e768b",
   "metadata": {},
   "source": [
    "# Text Preprocessing (Tokenizing)"
   ]
  },
  {
   "cell_type": "code",
   "execution_count": 7,
   "id": "7197aa7a",
   "metadata": {},
   "outputs": [
    {
     "name": "stdout",
     "output_type": "stream",
     "text": [
      "\n",
      "Hasil Tokenization:\n"
     ]
    },
    {
     "data": {
      "text/html": [
       "<div>\n",
       "<style scoped>\n",
       "    .dataframe tbody tr th:only-of-type {\n",
       "        vertical-align: middle;\n",
       "    }\n",
       "\n",
       "    .dataframe tbody tr th {\n",
       "        vertical-align: top;\n",
       "    }\n",
       "\n",
       "    .dataframe thead th {\n",
       "        text-align: right;\n",
       "    }\n",
       "</style>\n",
       "<table border=\"1\" class=\"dataframe\">\n",
       "  <thead>\n",
       "    <tr style=\"text-align: right;\">\n",
       "      <th></th>\n",
       "      <th>Cleaned_Text</th>\n",
       "      <th>Tokenized_Text</th>\n",
       "    </tr>\n",
       "  </thead>\n",
       "  <tbody>\n",
       "    <tr>\n",
       "      <th>0</th>\n",
       "      <td>cipung baju zumba cu banget tanganmenjepit warnakulitcerahsedang</td>\n",
       "      <td>[cipung, baju, zumba, cu, banget, tanganmenjepit, warnakulitcerahsedang]</td>\n",
       "    </tr>\n",
       "    <tr>\n",
       "      <th>1</th>\n",
       "      <td>kenapa dia kalo di luar negeri suka pakai baju zumba wajahmenangiskeras</td>\n",
       "      <td>[kenapa, dia, kalo, di, luar, negeri, suka, pakai, baju, zumba, wajahmenangiskeras]</td>\n",
       "    </tr>\n",
       "    <tr>\n",
       "      <th>2</th>\n",
       "      <td>benar benar mirip olga</td>\n",
       "      <td>[benar, benar, mirip, olga]</td>\n",
       "    </tr>\n",
       "    <tr>\n",
       "      <th>3</th>\n",
       "      <td>cipung ketemu yuki kato</td>\n",
       "      <td>[cipung, ketemu, yuki, kato]</td>\n",
       "    </tr>\n",
       "    <tr>\n",
       "      <th>4</th>\n",
       "      <td>cipung era baju zumba is back wajahgembiraberuraiairmata</td>\n",
       "      <td>[cipung, era, baju, zumba, is, back, wajahgembiraberuraiairmata]</td>\n",
       "    </tr>\n",
       "  </tbody>\n",
       "</table>\n",
       "</div>"
      ],
      "text/plain": [
       "                                                              Cleaned_Text  \\\n",
       "0         cipung baju zumba cu banget tanganmenjepit warnakulitcerahsedang   \n",
       "1  kenapa dia kalo di luar negeri suka pakai baju zumba wajahmenangiskeras   \n",
       "2                                                   benar benar mirip olga   \n",
       "3                                                  cipung ketemu yuki kato   \n",
       "4                 cipung era baju zumba is back wajahgembiraberuraiairmata   \n",
       "\n",
       "                                                                        Tokenized_Text  \n",
       "0             [cipung, baju, zumba, cu, banget, tanganmenjepit, warnakulitcerahsedang]  \n",
       "1  [kenapa, dia, kalo, di, luar, negeri, suka, pakai, baju, zumba, wajahmenangiskeras]  \n",
       "2                                                          [benar, benar, mirip, olga]  \n",
       "3                                                         [cipung, ketemu, yuki, kato]  \n",
       "4                     [cipung, era, baju, zumba, is, back, wajahgembiraberuraiairmata]  "
      ]
     },
     "execution_count": 7,
     "metadata": {},
     "output_type": "execute_result"
    }
   ],
   "source": [
    "def tokenize_text(text):\n",
    "    return word_tokenize(text)\n",
    "\n",
    "df['Tokenized_Text'] = df['Cleaned_Text'].apply(tokenize_text)\n",
    "\n",
    "print(\"\\nHasil Tokenization:\")\n",
    "df[['Cleaned_Text', 'Tokenized_Text']].head()"
   ]
  },
  {
   "cell_type": "markdown",
   "id": "686c5cd4",
   "metadata": {},
   "source": [
    "# Text Preprocessing (StopWord Removal)"
   ]
  },
  {
   "cell_type": "code",
   "execution_count": 8,
   "id": "34ff1688",
   "metadata": {},
   "outputs": [
    {
     "name": "stdout",
     "output_type": "stream",
     "text": [
      "\n",
      "Hasil Stopword Removal:\n"
     ]
    },
    {
     "data": {
      "text/html": [
       "<div>\n",
       "<style scoped>\n",
       "    .dataframe tbody tr th:only-of-type {\n",
       "        vertical-align: middle;\n",
       "    }\n",
       "\n",
       "    .dataframe tbody tr th {\n",
       "        vertical-align: top;\n",
       "    }\n",
       "\n",
       "    .dataframe thead th {\n",
       "        text-align: right;\n",
       "    }\n",
       "</style>\n",
       "<table border=\"1\" class=\"dataframe\">\n",
       "  <thead>\n",
       "    <tr style=\"text-align: right;\">\n",
       "      <th></th>\n",
       "      <th>Tokenized_Text</th>\n",
       "      <th>No_Stopwords</th>\n",
       "    </tr>\n",
       "  </thead>\n",
       "  <tbody>\n",
       "    <tr>\n",
       "      <th>0</th>\n",
       "      <td>[cipung, baju, zumba, cu, banget, tanganmenjepit, warnakulitcerahsedang]</td>\n",
       "      <td>[cipung, baju, zumba, cu, banget, tanganmenjepit, warnakulitcerahsedang]</td>\n",
       "    </tr>\n",
       "    <tr>\n",
       "      <th>1</th>\n",
       "      <td>[kenapa, dia, kalo, di, luar, negeri, suka, pakai, baju, zumba, wajahmenangiskeras]</td>\n",
       "      <td>[kalo, luar, negeri, suka, pakai, baju, zumba, wajahmenangiskeras]</td>\n",
       "    </tr>\n",
       "    <tr>\n",
       "      <th>2</th>\n",
       "      <td>[benar, benar, mirip, olga]</td>\n",
       "      <td>[benar, benar, mirip, olga]</td>\n",
       "    </tr>\n",
       "    <tr>\n",
       "      <th>3</th>\n",
       "      <td>[cipung, ketemu, yuki, kato]</td>\n",
       "      <td>[cipung, ketemu, yuki, kato]</td>\n",
       "    </tr>\n",
       "    <tr>\n",
       "      <th>4</th>\n",
       "      <td>[cipung, era, baju, zumba, is, back, wajahgembiraberuraiairmata]</td>\n",
       "      <td>[cipung, era, baju, zumba, is, back, wajahgembiraberuraiairmata]</td>\n",
       "    </tr>\n",
       "  </tbody>\n",
       "</table>\n",
       "</div>"
      ],
      "text/plain": [
       "                                                                        Tokenized_Text  \\\n",
       "0             [cipung, baju, zumba, cu, banget, tanganmenjepit, warnakulitcerahsedang]   \n",
       "1  [kenapa, dia, kalo, di, luar, negeri, suka, pakai, baju, zumba, wajahmenangiskeras]   \n",
       "2                                                          [benar, benar, mirip, olga]   \n",
       "3                                                         [cipung, ketemu, yuki, kato]   \n",
       "4                     [cipung, era, baju, zumba, is, back, wajahgembiraberuraiairmata]   \n",
       "\n",
       "                                                               No_Stopwords  \n",
       "0  [cipung, baju, zumba, cu, banget, tanganmenjepit, warnakulitcerahsedang]  \n",
       "1        [kalo, luar, negeri, suka, pakai, baju, zumba, wajahmenangiskeras]  \n",
       "2                                               [benar, benar, mirip, olga]  \n",
       "3                                              [cipung, ketemu, yuki, kato]  \n",
       "4          [cipung, era, baju, zumba, is, back, wajahgembiraberuraiairmata]  "
      ]
     },
     "execution_count": 8,
     "metadata": {},
     "output_type": "execute_result"
    }
   ],
   "source": [
    "factory = StopWordRemoverFactory()\n",
    "stopwords = set(factory.get_stop_words())\n",
    "\n",
    "# Hilangkan stopwords\n",
    "df['No_Stopwords'] = df['Tokenized_Text'].apply(lambda tokens: [w for w in tokens if w not in stopwords])\n",
    "print(\"\\nHasil Stopword Removal:\")\n",
    "df[['Tokenized_Text', 'No_Stopwords']].head()"
   ]
  },
  {
   "cell_type": "markdown",
   "id": "85094a0f",
   "metadata": {},
   "source": [
    "# Text Preprocessing (Stemming)"
   ]
  },
  {
   "cell_type": "code",
   "execution_count": 9,
   "id": "d67621d2",
   "metadata": {},
   "outputs": [
    {
     "name": "stdout",
     "output_type": "stream",
     "text": [
      "\n",
      "Hasil Stemming:\n"
     ]
    },
    {
     "data": {
      "text/html": [
       "<div>\n",
       "<style scoped>\n",
       "    .dataframe tbody tr th:only-of-type {\n",
       "        vertical-align: middle;\n",
       "    }\n",
       "\n",
       "    .dataframe tbody tr th {\n",
       "        vertical-align: top;\n",
       "    }\n",
       "\n",
       "    .dataframe thead th {\n",
       "        text-align: right;\n",
       "    }\n",
       "</style>\n",
       "<table border=\"1\" class=\"dataframe\">\n",
       "  <thead>\n",
       "    <tr style=\"text-align: right;\">\n",
       "      <th></th>\n",
       "      <th>No_Stopwords</th>\n",
       "      <th>Stemmed_Text</th>\n",
       "    </tr>\n",
       "  </thead>\n",
       "  <tbody>\n",
       "    <tr>\n",
       "      <th>0</th>\n",
       "      <td>[cipung, baju, zumba, cu, banget, tanganmenjepit, warnakulitcerahsedang]</td>\n",
       "      <td>[cipung, baju, zumba, cu, banget, tanganmenjepit, warnakulitcerahsedang]</td>\n",
       "    </tr>\n",
       "    <tr>\n",
       "      <th>1</th>\n",
       "      <td>[kalo, luar, negeri, suka, pakai, baju, zumba, wajahmenangiskeras]</td>\n",
       "      <td>[kalo, luar, negeri, suka, pakai, baju, zumba, wajahmenangiskeras]</td>\n",
       "    </tr>\n",
       "    <tr>\n",
       "      <th>2</th>\n",
       "      <td>[benar, benar, mirip, olga]</td>\n",
       "      <td>[benar, benar, mirip, olga]</td>\n",
       "    </tr>\n",
       "    <tr>\n",
       "      <th>3</th>\n",
       "      <td>[cipung, ketemu, yuki, kato]</td>\n",
       "      <td>[cipung, ketemu, yuk, kato]</td>\n",
       "    </tr>\n",
       "    <tr>\n",
       "      <th>4</th>\n",
       "      <td>[cipung, era, baju, zumba, is, back, wajahgembiraberuraiairmata]</td>\n",
       "      <td>[cipung, era, baju, zumba, is, back, wajahgembiraberuraiairmata]</td>\n",
       "    </tr>\n",
       "  </tbody>\n",
       "</table>\n",
       "</div>"
      ],
      "text/plain": [
       "                                                               No_Stopwords  \\\n",
       "0  [cipung, baju, zumba, cu, banget, tanganmenjepit, warnakulitcerahsedang]   \n",
       "1        [kalo, luar, negeri, suka, pakai, baju, zumba, wajahmenangiskeras]   \n",
       "2                                               [benar, benar, mirip, olga]   \n",
       "3                                              [cipung, ketemu, yuki, kato]   \n",
       "4          [cipung, era, baju, zumba, is, back, wajahgembiraberuraiairmata]   \n",
       "\n",
       "                                                               Stemmed_Text  \n",
       "0  [cipung, baju, zumba, cu, banget, tanganmenjepit, warnakulitcerahsedang]  \n",
       "1        [kalo, luar, negeri, suka, pakai, baju, zumba, wajahmenangiskeras]  \n",
       "2                                               [benar, benar, mirip, olga]  \n",
       "3                                               [cipung, ketemu, yuk, kato]  \n",
       "4          [cipung, era, baju, zumba, is, back, wajahgembiraberuraiairmata]  "
      ]
     },
     "execution_count": 9,
     "metadata": {},
     "output_type": "execute_result"
    }
   ],
   "source": [
    "factory = StemmerFactory()\n",
    "stemmer = factory.create_stemmer()\n",
    "\n",
    "def stem_text(tokens):\n",
    "    return [stemmer.stem(word) for word in tokens]\n",
    "\n",
    "df['Stemmed_Text'] = df['No_Stopwords'].apply(stem_text)\n",
    "print(\"\\nHasil Stemming:\")\n",
    "df[['No_Stopwords', 'Stemmed_Text']].head()"
   ]
  },
  {
   "cell_type": "code",
   "execution_count": 10,
   "id": "1cbe928a",
   "metadata": {},
   "outputs": [
    {
     "name": "stdout",
     "output_type": "stream",
     "text": [
      "\n",
      "Teks Setelah Preprocessing:\n"
     ]
    },
    {
     "data": {
      "text/html": [
       "<div>\n",
       "<style scoped>\n",
       "    .dataframe tbody tr th:only-of-type {\n",
       "        vertical-align: middle;\n",
       "    }\n",
       "\n",
       "    .dataframe tbody tr th {\n",
       "        vertical-align: top;\n",
       "    }\n",
       "\n",
       "    .dataframe thead th {\n",
       "        text-align: right;\n",
       "    }\n",
       "</style>\n",
       "<table border=\"1\" class=\"dataframe\">\n",
       "  <thead>\n",
       "    <tr style=\"text-align: right;\">\n",
       "      <th></th>\n",
       "      <th>Stemmed_Text</th>\n",
       "      <th>Processed_Text</th>\n",
       "    </tr>\n",
       "  </thead>\n",
       "  <tbody>\n",
       "    <tr>\n",
       "      <th>0</th>\n",
       "      <td>[cipung, baju, zumba, cu, banget, tanganmenjepit, warnakulitcerahsedang]</td>\n",
       "      <td>cipung baju zumba cu banget tanganmenjepit warnakulitcerahsedang</td>\n",
       "    </tr>\n",
       "    <tr>\n",
       "      <th>1</th>\n",
       "      <td>[kalo, luar, negeri, suka, pakai, baju, zumba, wajahmenangiskeras]</td>\n",
       "      <td>kalo luar negeri suka pakai baju zumba wajahmenangiskeras</td>\n",
       "    </tr>\n",
       "    <tr>\n",
       "      <th>2</th>\n",
       "      <td>[benar, benar, mirip, olga]</td>\n",
       "      <td>benar benar mirip olga</td>\n",
       "    </tr>\n",
       "    <tr>\n",
       "      <th>3</th>\n",
       "      <td>[cipung, ketemu, yuk, kato]</td>\n",
       "      <td>cipung ketemu yuk kato</td>\n",
       "    </tr>\n",
       "    <tr>\n",
       "      <th>4</th>\n",
       "      <td>[cipung, era, baju, zumba, is, back, wajahgembiraberuraiairmata]</td>\n",
       "      <td>cipung era baju zumba is back wajahgembiraberuraiairmata</td>\n",
       "    </tr>\n",
       "  </tbody>\n",
       "</table>\n",
       "</div>"
      ],
      "text/plain": [
       "                                                               Stemmed_Text  \\\n",
       "0  [cipung, baju, zumba, cu, banget, tanganmenjepit, warnakulitcerahsedang]   \n",
       "1        [kalo, luar, negeri, suka, pakai, baju, zumba, wajahmenangiskeras]   \n",
       "2                                               [benar, benar, mirip, olga]   \n",
       "3                                               [cipung, ketemu, yuk, kato]   \n",
       "4          [cipung, era, baju, zumba, is, back, wajahgembiraberuraiairmata]   \n",
       "\n",
       "                                                     Processed_Text  \n",
       "0  cipung baju zumba cu banget tanganmenjepit warnakulitcerahsedang  \n",
       "1         kalo luar negeri suka pakai baju zumba wajahmenangiskeras  \n",
       "2                                            benar benar mirip olga  \n",
       "3                                            cipung ketemu yuk kato  \n",
       "4          cipung era baju zumba is back wajahgembiraberuraiairmata  "
      ]
     },
     "execution_count": 10,
     "metadata": {},
     "output_type": "execute_result"
    }
   ],
   "source": [
    "df['Processed_Text'] = df['Stemmed_Text'].apply(lambda x: ' '.join(x))\n",
    "print(\"\\nTeks Setelah Preprocessing:\")\n",
    "df[['Stemmed_Text', 'Processed_Text']].head()"
   ]
  },
  {
   "cell_type": "code",
   "execution_count": null,
   "id": "ca798363",
   "metadata": {},
   "outputs": [
    {
     "name": "stdout",
     "output_type": "stream",
     "text": [
      "\n",
      "Dataset yang telah dipreproses disimpan sebagai 'preprocessed_dataset.csv'\n"
     ]
    }
   ],
   "source": [
    "# df.to_csv('preprocessed_dataset.csv', index=False)\n",
    "# print(\"\\nDataset yang telah dipreproses disimpan sebagai 'preprocessed_dataset.csv'\")"
   ]
  },
  {
   "cell_type": "code",
   "execution_count": null,
   "id": "f154a0fc",
   "metadata": {},
   "outputs": [
    {
     "data": {
      "text/html": [
       "<div>\n",
       "<style scoped>\n",
       "    .dataframe tbody tr th:only-of-type {\n",
       "        vertical-align: middle;\n",
       "    }\n",
       "\n",
       "    .dataframe tbody tr th {\n",
       "        vertical-align: top;\n",
       "    }\n",
       "\n",
       "    .dataframe thead th {\n",
       "        text-align: right;\n",
       "    }\n",
       "</style>\n",
       "<table border=\"1\" class=\"dataframe\">\n",
       "  <thead>\n",
       "    <tr style=\"text-align: right;\">\n",
       "      <th></th>\n",
       "      <th>Text</th>\n",
       "      <th>Label</th>\n",
       "      <th>LabelText</th>\n",
       "      <th>Cleaned_Text</th>\n",
       "      <th>Tokenized_Text</th>\n",
       "      <th>No_Stopwords</th>\n",
       "      <th>Stemmed_Text</th>\n",
       "      <th>Processed_Text</th>\n",
       "    </tr>\n",
       "  </thead>\n",
       "  <tbody>\n",
       "    <tr>\n",
       "      <th>0</th>\n",
       "      <td>cipung baju zumba cu bgt🤏🏼</td>\n",
       "      <td>0</td>\n",
       "      <td>Non-Bullying</td>\n",
       "      <td>cipung baju zumba cu banget tanganmenjepit warnakulitcerahsedang</td>\n",
       "      <td>['cipung', 'baju', 'zumba', 'cu', 'banget', 'tanganmenjepit', 'warnakulitcerahsedang']</td>\n",
       "      <td>['cipung', 'baju', 'zumba', 'cu', 'banget', 'tanganmenjepit', 'warnakulitcerahsedang']</td>\n",
       "      <td>['cipung', 'baju', 'zumba', 'cu', 'banget', 'tanganmenjepit', 'warnakulitcerahsedang']</td>\n",
       "      <td>cipung baju zumba cu banget tanganmenjepit warnakulitcerahsedang</td>\n",
       "    </tr>\n",
       "    <tr>\n",
       "      <th>1</th>\n",
       "      <td>Kenapa dia kalo di luar negeri suka pake baju zumba😭</td>\n",
       "      <td>0</td>\n",
       "      <td>Non-Bullying</td>\n",
       "      <td>kenapa dia kalo di luar negeri suka pakai baju zumba wajahmenangiskeras</td>\n",
       "      <td>['kenapa', 'dia', 'kalo', 'di', 'luar', 'negeri', 'suka', 'pakai', 'baju', 'zumba', 'wajahmenangiskeras']</td>\n",
       "      <td>['kalo', 'luar', 'negeri', 'suka', 'pakai', 'baju', 'zumba', 'wajahmenangiskeras']</td>\n",
       "      <td>['kalo', 'luar', 'negeri', 'suka', 'pakai', 'baju', 'zumba', 'wajahmenangiskeras']</td>\n",
       "      <td>kalo luar negeri suka pakai baju zumba wajahmenangiskeras</td>\n",
       "    </tr>\n",
       "    <tr>\n",
       "      <th>2</th>\n",
       "      <td>bener bener mirip olga</td>\n",
       "      <td>0</td>\n",
       "      <td>Non-Bullying</td>\n",
       "      <td>benar benar mirip olga</td>\n",
       "      <td>['benar', 'benar', 'mirip', 'olga']</td>\n",
       "      <td>['benar', 'benar', 'mirip', 'olga']</td>\n",
       "      <td>['benar', 'benar', 'mirip', 'olga']</td>\n",
       "      <td>benar benar mirip olga</td>\n",
       "    </tr>\n",
       "    <tr>\n",
       "      <th>3</th>\n",
       "      <td>cipung ketemu yuki kato</td>\n",
       "      <td>0</td>\n",
       "      <td>Non-Bullying</td>\n",
       "      <td>cipung ketemu yuki kato</td>\n",
       "      <td>['cipung', 'ketemu', 'yuki', 'kato']</td>\n",
       "      <td>['cipung', 'ketemu', 'yuki', 'kato']</td>\n",
       "      <td>['cipung', 'ketemu', 'yuk', 'kato']</td>\n",
       "      <td>cipung ketemu yuk kato</td>\n",
       "    </tr>\n",
       "    <tr>\n",
       "      <th>4</th>\n",
       "      <td>cipung era baju zumba is back😂</td>\n",
       "      <td>0</td>\n",
       "      <td>Non-Bullying</td>\n",
       "      <td>cipung era baju zumba is back wajahgembiraberuraiairmata</td>\n",
       "      <td>['cipung', 'era', 'baju', 'zumba', 'is', 'back', 'wajahgembiraberuraiairmata']</td>\n",
       "      <td>['cipung', 'era', 'baju', 'zumba', 'is', 'back', 'wajahgembiraberuraiairmata']</td>\n",
       "      <td>['cipung', 'era', 'baju', 'zumba', 'is', 'back', 'wajahgembiraberuraiairmata']</td>\n",
       "      <td>cipung era baju zumba is back wajahgembiraberuraiairmata</td>\n",
       "    </tr>\n",
       "  </tbody>\n",
       "</table>\n",
       "</div>"
      ],
      "text/plain": [
       "                                                   Text  Label     LabelText  \\\n",
       "0                            cipung baju zumba cu bgt🤏🏼      0  Non-Bullying   \n",
       "1  Kenapa dia kalo di luar negeri suka pake baju zumba😭      0  Non-Bullying   \n",
       "2                                bener bener mirip olga      0  Non-Bullying   \n",
       "3                               cipung ketemu yuki kato      0  Non-Bullying   \n",
       "4                        cipung era baju zumba is back😂      0  Non-Bullying   \n",
       "\n",
       "                                                              Cleaned_Text  \\\n",
       "0         cipung baju zumba cu banget tanganmenjepit warnakulitcerahsedang   \n",
       "1  kenapa dia kalo di luar negeri suka pakai baju zumba wajahmenangiskeras   \n",
       "2                                                   benar benar mirip olga   \n",
       "3                                                  cipung ketemu yuki kato   \n",
       "4                 cipung era baju zumba is back wajahgembiraberuraiairmata   \n",
       "\n",
       "                                                                                              Tokenized_Text  \\\n",
       "0                     ['cipung', 'baju', 'zumba', 'cu', 'banget', 'tanganmenjepit', 'warnakulitcerahsedang']   \n",
       "1  ['kenapa', 'dia', 'kalo', 'di', 'luar', 'negeri', 'suka', 'pakai', 'baju', 'zumba', 'wajahmenangiskeras']   \n",
       "2                                                                        ['benar', 'benar', 'mirip', 'olga']   \n",
       "3                                                                       ['cipung', 'ketemu', 'yuki', 'kato']   \n",
       "4                             ['cipung', 'era', 'baju', 'zumba', 'is', 'back', 'wajahgembiraberuraiairmata']   \n",
       "\n",
       "                                                                             No_Stopwords  \\\n",
       "0  ['cipung', 'baju', 'zumba', 'cu', 'banget', 'tanganmenjepit', 'warnakulitcerahsedang']   \n",
       "1      ['kalo', 'luar', 'negeri', 'suka', 'pakai', 'baju', 'zumba', 'wajahmenangiskeras']   \n",
       "2                                                     ['benar', 'benar', 'mirip', 'olga']   \n",
       "3                                                    ['cipung', 'ketemu', 'yuki', 'kato']   \n",
       "4          ['cipung', 'era', 'baju', 'zumba', 'is', 'back', 'wajahgembiraberuraiairmata']   \n",
       "\n",
       "                                                                             Stemmed_Text  \\\n",
       "0  ['cipung', 'baju', 'zumba', 'cu', 'banget', 'tanganmenjepit', 'warnakulitcerahsedang']   \n",
       "1      ['kalo', 'luar', 'negeri', 'suka', 'pakai', 'baju', 'zumba', 'wajahmenangiskeras']   \n",
       "2                                                     ['benar', 'benar', 'mirip', 'olga']   \n",
       "3                                                     ['cipung', 'ketemu', 'yuk', 'kato']   \n",
       "4          ['cipung', 'era', 'baju', 'zumba', 'is', 'back', 'wajahgembiraberuraiairmata']   \n",
       "\n",
       "                                                     Processed_Text  \n",
       "0  cipung baju zumba cu banget tanganmenjepit warnakulitcerahsedang  \n",
       "1         kalo luar negeri suka pakai baju zumba wajahmenangiskeras  \n",
       "2                                            benar benar mirip olga  \n",
       "3                                            cipung ketemu yuk kato  \n",
       "4          cipung era baju zumba is back wajahgembiraberuraiairmata  "
      ]
     },
     "execution_count": 55,
     "metadata": {},
     "output_type": "execute_result"
    }
   ],
   "source": [
    "# df = pd.read_csv('preprocessed_dataset.csv')\n",
    "# df.head()"
   ]
  },
  {
   "cell_type": "markdown",
   "id": "abb5b976",
   "metadata": {},
   "source": [
    "# Train-Test Split (80:20)"
   ]
  },
  {
   "cell_type": "code",
   "execution_count": 11,
   "id": "9f67be28",
   "metadata": {},
   "outputs": [
    {
     "name": "stdout",
     "output_type": "stream",
     "text": [
      "\n",
      "Ukuran Data Training: (8420,)\n",
      "Ukuran Data Testing: (2106,)\n"
     ]
    }
   ],
   "source": [
    "X = df['Processed_Text']\n",
    "y = df['Label']\n",
    "\n",
    "X_train, X_test, y_train, y_test = train_test_split(X, y, test_size=0.2, random_state=42, stratify=y)\n",
    "\n",
    "print(\"\\nUkuran Data Training:\", X_train.shape)\n",
    "print(\"Ukuran Data Testing:\", X_test.shape)"
   ]
  },
  {
   "cell_type": "markdown",
   "id": "2d51dbb6",
   "metadata": {},
   "source": [
    "# Tf-Idf Vectorizer"
   ]
  },
  {
   "cell_type": "code",
   "execution_count": 12,
   "id": "576317f4",
   "metadata": {},
   "outputs": [
    {
     "name": "stdout",
     "output_type": "stream",
     "text": [
      "\n",
      "Shape of Training TF-IDF Matrix: (8420, 5000)\n",
      "Shape of Testing TF-IDF Matrix: (2106, 5000)\n",
      "Feature Names Sample: ['aal' 'aaliyah' 'abadi' 'abah' 'abang' 'abar' 'abiez' 'about' 'absen'\n",
      " 'abt']\n"
     ]
    }
   ],
   "source": [
    "tfidf = TfidfVectorizer(max_features=5000)\n",
    "X_train_tfidf = tfidf.fit_transform(X_train).toarray()  # Fit dan transform pada training\n",
    "X_test_tfidf = tfidf.transform(X_test).toarray()       # Hanya transform pada test\n",
    "\n",
    "print(\"\\nShape of Training TF-IDF Matrix:\", X_train_tfidf.shape)\n",
    "print(\"Shape of Testing TF-IDF Matrix:\", X_test_tfidf.shape)\n",
    "print(\"Feature Names Sample:\", tfidf.get_feature_names_out()[:10])"
   ]
  },
  {
   "cell_type": "markdown",
   "id": "fb11d99a",
   "metadata": {},
   "source": [
    "# Modelling"
   ]
  },
  {
   "cell_type": "code",
   "execution_count": 14,
   "id": "98c4af96",
   "metadata": {},
   "outputs": [
    {
     "data": {
      "application/vnd.jupyter.widget-view+json": {
       "model_id": "5e3f4a2eed4b4e2789a49d28cad8c6b4",
       "version_major": 2,
       "version_minor": 0
      },
      "text/plain": [
       "Training Models:   0%|          | 0/2 [00:00<?, ?it/s]"
      ]
     },
     "metadata": {},
     "output_type": "display_data"
    }
   ],
   "source": [
    "from tqdm.notebook import tqdm \n",
    "\n",
    "# Model yang akan digunakan\n",
    "models = {\n",
    "    'Naive Bayes'  : MultinomialNB(),\n",
    "    'Random Forest': RandomForestClassifier(n_estimators=100, random_state=42)\n",
    "}\n",
    "\n",
    "predictions = {}\n",
    "\n",
    "# Menambahkan tqdm pada loop\n",
    "for name, mdl in tqdm(models.items(), desc=\"Training Models\", total=len(models)):\n",
    "    mdl.fit(X_train_tfidf, y_train)  # Melatih model\n",
    "    predictions[name] = mdl.predict(X_test_tfidf)  # Prediksi hasil\n"
   ]
  },
  {
   "cell_type": "markdown",
   "id": "e4dada87",
   "metadata": {},
   "source": [
    "# Model Evaluation"
   ]
  },
  {
   "cell_type": "code",
   "execution_count": 15,
   "id": "b9df8315",
   "metadata": {},
   "outputs": [],
   "source": [
    "sns.set_style('whitegrid')\n",
    "plt.rcParams.update({\n",
    "    'figure.autolayout': True,\n",
    "    'axes.titlesize': 14,\n",
    "    'axes.labelsize': 12,\n",
    "    'xtick.labelsize': 10,\n",
    "    'ytick.labelsize': 10\n",
    "})\n",
    "\n",
    "def evaluate_and_plot(cm, model_name, labels):\n",
    "    \"\"\"Plot Confusion Matrix yang sudah dihitung.\"\"\"\n",
    "    plt.figure(figsize=(6, 5))\n",
    "    sns.heatmap(cm, annot=True, fmt='d', cmap='Blues',\n",
    "                xticklabels=labels, yticklabels=labels,\n",
    "                cbar=False, linewidths=0.5)\n",
    "    plt.title(f'Confusion Matrix — {model_name}')\n",
    "    plt.xlabel('Predicted')\n",
    "    plt.ylabel('Actual')\n",
    "    plt.show()\n",
    "\n",
    "def print_metrics(y_true, y_pred, model_name, labels):\n",
    "    \"\"\"Cetak metrik evaluasi dan classification report.\"\"\"\n",
    "    acc  = accuracy_score(y_true, y_pred)\n",
    "    prec = precision_score(y_true, y_pred, average='weighted')\n",
    "    rec  = recall_score(y_true, y_pred, average='weighted')\n",
    "    f1   = f1_score(y_true, y_pred, average='weighted')\n",
    "\n",
    "    print(f\"\\n=== {model_name} ===\")\n",
    "    print(f\"Akurasi  : {acc:.4f}\")\n",
    "    print(f\"Presisi  : {prec:.4f}\")\n",
    "    print(f\"Recall   : {rec:.4f}\")\n",
    "    print(f\"F1-Score : {f1:.4f}\\n\")\n",
    "    print(\"Classification Report:\")\n",
    "    print(classification_report(y_true, y_pred, target_names=labels))\n",
    "\n",
    "def compare_models(metrics_df):\n",
    "    \"\"\"Barplot perbandingan metrik antar-model.\"\"\"\n",
    "    plt.figure(figsize=(8, 5))\n",
    "    metrics_melted = metrics_df.melt(id_vars='Model',\n",
    "                                     var_name='Metric',\n",
    "                                     value_name='Score')\n",
    "    ax = sns.barplot(data=metrics_melted, x='Model', y='Score', hue='Metric')\n",
    "    ax.set_title('Perbandingan Performansi Model')\n",
    "    ax.set_ylim(0, 1)\n",
    "    for p in ax.patches:\n",
    "        h = p.get_height()\n",
    "        ax.annotate(f\"{h:.2f}\", (p.get_x() + p.get_width()/2, h),\n",
    "                    ha='center', va='bottom', fontsize=9)\n",
    "    plt.legend(loc='lower right')\n",
    "    plt.show()\n",
    "\n",
    "def plot_feature_importance(model, feature_names, top_n=10):\n",
    "    \"\"\"Tampilkan Top-N fitur terpenting dari RandomForest.\"\"\"\n",
    "    importances = model.feature_importances_\n",
    "    feat_imp = pd.Series(importances, index=feature_names)\n",
    "    top_feats = feat_imp.nlargest(top_n).sort_values()\n",
    "    \n",
    "    plt.figure(figsize=(6, 5))\n",
    "    sns.barplot(x=top_feats.values, y=top_feats.index)\n",
    "    plt.title(f'Top {top_n} Fitur RF')\n",
    "    plt.xlabel('Importance')\n",
    "    plt.ylabel('Feature')\n",
    "    for i, v in enumerate(top_feats.values):\n",
    "        plt.text(v + 0.002, i, f\"{v:.3f}\", va='center')\n",
    "    plt.show()"
   ]
  },
  {
   "cell_type": "code",
   "execution_count": 16,
   "id": "d9b55d8e",
   "metadata": {},
   "outputs": [
    {
     "name": "stdout",
     "output_type": "stream",
     "text": [
      "\n",
      "=== Naive Bayes ===\n",
      "Akurasi  : 0.7958\n",
      "Presisi  : 0.7964\n",
      "Recall   : 0.7958\n",
      "F1-Score : 0.7954\n",
      "\n",
      "Classification Report:\n",
      "              precision    recall  f1-score   support\n",
      "\n",
      "    Negative       0.79      0.83      0.81      1096\n",
      "    Positive       0.81      0.76      0.78      1010\n",
      "\n",
      "    accuracy                           0.80      2106\n",
      "   macro avg       0.80      0.79      0.79      2106\n",
      "weighted avg       0.80      0.80      0.80      2106\n",
      "\n"
     ]
    },
    {
     "data": {
      "image/png": "[encoded data removed]",
      "text/plain": [
       "<Figure size 600x500 with 1 Axes>"
      ]
     },
     "metadata": {},
     "output_type": "display_data"
    },
    {
     "name": "stdout",
     "output_type": "stream",
     "text": [
      "\n",
      "=== Random Forest ===\n",
      "Akurasi  : 0.7716\n",
      "Presisi  : 0.7723\n",
      "Recall   : 0.7716\n",
      "F1-Score : 0.7717\n",
      "\n",
      "Classification Report:\n",
      "              precision    recall  f1-score   support\n",
      "\n",
      "    Negative       0.79      0.76      0.78      1096\n",
      "    Positive       0.75      0.78      0.77      1010\n",
      "\n",
      "    accuracy                           0.77      2106\n",
      "   macro avg       0.77      0.77      0.77      2106\n",
      "weighted avg       0.77      0.77      0.77      2106\n",
      "\n"
     ]
    },
    {
     "data": {
      "image/png": "[encoded data removed]",
      "text/plain": [
       "<Figure size 600x500 with 1 Axes>"
      ]
     },
     "metadata": {},
     "output_type": "display_data"
    }
   ],
   "source": [
    "labels = ['Negative', 'Positive']\n",
    "metrics = []\n",
    "for name, y_pred in predictions.items():\n",
    "    print_metrics(y_test, y_pred, name, labels)\n",
    "    cm = confusion_matrix(y_test, y_pred)\n",
    "    evaluate_and_plot(cm, name, labels)\n",
    "    acc  = accuracy_score(y_test, y_pred)\n",
    "    prec = precision_score(y_test, y_pred, average='weighted')\n",
    "    rec  = recall_score(y_test, y_pred, average='weighted')\n",
    "    f1   = f1_score(y_test, y_pred, average='weighted')\n",
    "    metrics.append([name, acc, prec, rec, f1])"
   ]
  },
  {
   "cell_type": "code",
   "execution_count": 17,
   "id": "62d6500d",
   "metadata": {},
   "outputs": [
    {
     "data": {
      "image/png": "[encoded data removed]",
      "text/plain": [
       "<Figure size 800x500 with 1 Axes>"
      ]
     },
     "metadata": {},
     "output_type": "display_data"
    }
   ],
   "source": [
    "metrics_df = pd.DataFrame(metrics, columns=['Model', 'Accuracy', 'Precision', 'Recall', 'F1'])\n",
    "compare_models(metrics_df)"
   ]
  }
 ],
 "metadata": {
  "kernelspec": {
   "display_name": "Python 3",
   "language": "python",
   "name": "python3"
  },
  "language_info": {
   "codemirror_mode": {
    "name": "ipython",
    "version": 3
   },
   "file_extension": ".py",
   "mimetype": "text/x-python",
   "name": "python",
   "nbconvert_exporter": "python",
   "pygments_lexer": "ipython3",
   "version": "3.11.9"
  }
 },
 "nbformat": 4,
 "nbformat_minor": 5
}
